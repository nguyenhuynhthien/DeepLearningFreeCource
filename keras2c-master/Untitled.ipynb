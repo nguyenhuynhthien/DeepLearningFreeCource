{
 "cells": [
  {
   "cell_type": "code",
   "execution_count": 7,
   "id": "117aac3c",
   "metadata": {},
   "outputs": [
    {
     "name": "stdout",
     "output_type": "stream",
     "text": [
      "All checks passed\n",
      "Gathering Weights\n",
      "Writing layer  dense_6\n",
      "Writing layer  dense_7\n",
      "Writing layer  dense_8\n",
      "astyle not found, myKerasModel.h and myKerasModel.c will not be auto-formatted\n",
      "Writing tests\n",
      "astyle not found, myKerasModel_test_suite.c will not be auto-formatted\n",
      "Done \n",
      "C code is in 'myKerasModel.c' with header file 'myKerasModel.h' \n",
      "Tests are in 'myKerasModel_test_suite.c' \n",
      "\n"
     ]
    }
   ],
   "source": [
    "from keras2c import k2c\n",
    "k2c('model2.h5', 'myKerasModel', malloc=False, num_tests=10, verbose=True)\n"
   ]
  },
  {
   "cell_type": "code",
   "execution_count": null,
   "id": "8187398e",
   "metadata": {},
   "outputs": [],
   "source": []
  }
 ],
 "metadata": {
  "kernelspec": {
   "display_name": "Python 3",
   "language": "python",
   "name": "python3"
  },
  "language_info": {
   "codemirror_mode": {
    "name": "ipython",
    "version": 3
   },
   "file_extension": ".py",
   "mimetype": "text/x-python",
   "name": "python",
   "nbconvert_exporter": "python",
   "pygments_lexer": "ipython3",
   "version": "3.8.8"
  },
  "varInspector": {
   "cols": {
    "lenName": 16,
    "lenType": 16,
    "lenVar": 40
   },
   "kernels_config": {
    "python": {
     "delete_cmd_postfix": "",
     "delete_cmd_prefix": "del ",
     "library": "var_list.py",
     "varRefreshCmd": "print(var_dic_list())"
    },
    "r": {
     "delete_cmd_postfix": ") ",
     "delete_cmd_prefix": "rm(",
     "library": "var_list.r",
     "varRefreshCmd": "cat(var_dic_list()) "
    }
   },
   "types_to_exclude": [
    "module",
    "function",
    "builtin_function_or_method",
    "instance",
    "_Feature"
   ],
   "window_display": false
  }
 },
 "nbformat": 4,
 "nbformat_minor": 5
}
