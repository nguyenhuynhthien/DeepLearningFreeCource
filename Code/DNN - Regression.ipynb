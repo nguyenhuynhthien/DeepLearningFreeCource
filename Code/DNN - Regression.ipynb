{
 "cells": [
  {
   "cell_type": "markdown",
   "metadata": {},
   "source": [
    "# Import modules"
   ]
  },
  {
   "cell_type": "code",
   "execution_count": 1,
   "metadata": {
    "_cell_guid": "b1076dfc-b9ad-4769-8c92-a6c4dae69d19",
    "_uuid": "8f2839f25d086af736a60e9eeb907d3b93b6e0e5"
   },
   "outputs": [],
   "source": [
    "import numpy as np \n",
    "import pandas as pd \n",
    "import matplotlib.pyplot as plt\n",
    "from sklearn.model_selection import train_test_split\n",
    "from keras.models import Sequential\n",
    "from keras.layers import Dense"
   ]
  },
  {
   "cell_type": "markdown",
   "metadata": {},
   "source": [
    "# Lấy dataset"
   ]
  },
  {
   "cell_type": "code",
   "execution_count": 2,
   "metadata": {
    "_cell_guid": "79c7e3d0-c299-4dcb-8224-4455121ee9b0",
    "_uuid": "d629ff2d2480ee46fbb7e2d37f6b5fab8052498a"
   },
   "outputs": [
    {
     "data": {
      "text/html": [
       "<div>\n",
       "<style scoped>\n",
       "    .dataframe tbody tr th:only-of-type {\n",
       "        vertical-align: middle;\n",
       "    }\n",
       "\n",
       "    .dataframe tbody tr th {\n",
       "        vertical-align: top;\n",
       "    }\n",
       "\n",
       "    .dataframe thead th {\n",
       "        text-align: right;\n",
       "    }\n",
       "</style>\n",
       "<table border=\"1\" class=\"dataframe\">\n",
       "  <thead>\n",
       "    <tr style=\"text-align: right;\">\n",
       "      <th></th>\n",
       "      <th>GRE</th>\n",
       "      <th>TOEFL</th>\n",
       "      <th>University Rating</th>\n",
       "      <th>SOP</th>\n",
       "      <th>LOR</th>\n",
       "      <th>CGPA</th>\n",
       "      <th>Research</th>\n",
       "      <th>Admission_Chance</th>\n",
       "    </tr>\n",
       "  </thead>\n",
       "  <tbody>\n",
       "    <tr>\n",
       "      <th>0</th>\n",
       "      <td>337</td>\n",
       "      <td>118</td>\n",
       "      <td>4</td>\n",
       "      <td>4.5</td>\n",
       "      <td>4.5</td>\n",
       "      <td>9.65</td>\n",
       "      <td>1</td>\n",
       "      <td>0.92</td>\n",
       "    </tr>\n",
       "    <tr>\n",
       "      <th>1</th>\n",
       "      <td>324</td>\n",
       "      <td>107</td>\n",
       "      <td>4</td>\n",
       "      <td>4.0</td>\n",
       "      <td>4.5</td>\n",
       "      <td>8.87</td>\n",
       "      <td>1</td>\n",
       "      <td>0.76</td>\n",
       "    </tr>\n",
       "    <tr>\n",
       "      <th>2</th>\n",
       "      <td>316</td>\n",
       "      <td>104</td>\n",
       "      <td>3</td>\n",
       "      <td>3.0</td>\n",
       "      <td>3.5</td>\n",
       "      <td>8.00</td>\n",
       "      <td>1</td>\n",
       "      <td>0.72</td>\n",
       "    </tr>\n",
       "    <tr>\n",
       "      <th>3</th>\n",
       "      <td>322</td>\n",
       "      <td>110</td>\n",
       "      <td>3</td>\n",
       "      <td>3.5</td>\n",
       "      <td>2.5</td>\n",
       "      <td>8.67</td>\n",
       "      <td>1</td>\n",
       "      <td>0.80</td>\n",
       "    </tr>\n",
       "    <tr>\n",
       "      <th>4</th>\n",
       "      <td>314</td>\n",
       "      <td>103</td>\n",
       "      <td>2</td>\n",
       "      <td>2.0</td>\n",
       "      <td>3.0</td>\n",
       "      <td>8.21</td>\n",
       "      <td>0</td>\n",
       "      <td>0.65</td>\n",
       "    </tr>\n",
       "    <tr>\n",
       "      <th>5</th>\n",
       "      <td>330</td>\n",
       "      <td>115</td>\n",
       "      <td>5</td>\n",
       "      <td>4.5</td>\n",
       "      <td>3.0</td>\n",
       "      <td>9.34</td>\n",
       "      <td>1</td>\n",
       "      <td>0.90</td>\n",
       "    </tr>\n",
       "    <tr>\n",
       "      <th>6</th>\n",
       "      <td>321</td>\n",
       "      <td>109</td>\n",
       "      <td>3</td>\n",
       "      <td>3.0</td>\n",
       "      <td>4.0</td>\n",
       "      <td>8.20</td>\n",
       "      <td>1</td>\n",
       "      <td>0.75</td>\n",
       "    </tr>\n",
       "    <tr>\n",
       "      <th>7</th>\n",
       "      <td>308</td>\n",
       "      <td>101</td>\n",
       "      <td>2</td>\n",
       "      <td>3.0</td>\n",
       "      <td>4.0</td>\n",
       "      <td>7.90</td>\n",
       "      <td>0</td>\n",
       "      <td>0.68</td>\n",
       "    </tr>\n",
       "    <tr>\n",
       "      <th>8</th>\n",
       "      <td>302</td>\n",
       "      <td>102</td>\n",
       "      <td>1</td>\n",
       "      <td>2.0</td>\n",
       "      <td>1.5</td>\n",
       "      <td>8.00</td>\n",
       "      <td>0</td>\n",
       "      <td>0.50</td>\n",
       "    </tr>\n",
       "    <tr>\n",
       "      <th>9</th>\n",
       "      <td>323</td>\n",
       "      <td>108</td>\n",
       "      <td>3</td>\n",
       "      <td>3.5</td>\n",
       "      <td>3.0</td>\n",
       "      <td>8.60</td>\n",
       "      <td>0</td>\n",
       "      <td>0.45</td>\n",
       "    </tr>\n",
       "  </tbody>\n",
       "</table>\n",
       "</div>"
      ],
      "text/plain": [
       "   GRE  TOEFL  University Rating  SOP  LOR   CGPA  Research  Admission_Chance\n",
       "0  337    118                  4  4.5   4.5  9.65         1              0.92\n",
       "1  324    107                  4  4.0   4.5  8.87         1              0.76\n",
       "2  316    104                  3  3.0   3.5  8.00         1              0.72\n",
       "3  322    110                  3  3.5   2.5  8.67         1              0.80\n",
       "4  314    103                  2  2.0   3.0  8.21         0              0.65\n",
       "5  330    115                  5  4.5   3.0  9.34         1              0.90\n",
       "6  321    109                  3  3.0   4.0  8.20         1              0.75\n",
       "7  308    101                  2  3.0   4.0  7.90         0              0.68\n",
       "8  302    102                  1  2.0   1.5  8.00         0              0.50\n",
       "9  323    108                  3  3.5   3.0  8.60         0              0.45"
      ]
     },
     "execution_count": 2,
     "metadata": {},
     "output_type": "execute_result"
    }
   ],
   "source": [
    "df=pd.read_csv(\"../data/Admission_Predict_Ver1.1.csv\")\n",
    "df=df.rename(index=str, columns={\"GRE Score\": \"GRE\", \"TOEFL Score\": \"TOEFL\", \"Chance of Admit \": \"Admission_Chance\"})\n",
    "df=df.drop(\"Serial No.\",axis=1)\n",
    "df.head(10)"
   ]
  },
  {
   "cell_type": "code",
   "execution_count": 3,
   "metadata": {
    "_uuid": "ee3dbedb59bf0e29231083a541e08891889ad3a1"
   },
   "outputs": [
    {
     "name": "stdout",
     "output_type": "stream",
     "text": [
      "<class 'pandas.core.frame.DataFrame'>\n",
      "Index: 500 entries, 0 to 499\n",
      "Data columns (total 8 columns):\n",
      " #   Column             Non-Null Count  Dtype  \n",
      "---  ------             --------------  -----  \n",
      " 0   GRE                500 non-null    int64  \n",
      " 1   TOEFL              500 non-null    int64  \n",
      " 2   University Rating  500 non-null    int64  \n",
      " 3   SOP                500 non-null    float64\n",
      " 4   LOR                500 non-null    float64\n",
      " 5   CGPA               500 non-null    float64\n",
      " 6   Research           500 non-null    int64  \n",
      " 7   Admission_Chance   500 non-null    float64\n",
      "dtypes: float64(4), int64(4)\n",
      "memory usage: 35.2+ KB\n"
     ]
    }
   ],
   "source": [
    "df.info()"
   ]
  },
  {
   "cell_type": "markdown",
   "metadata": {},
   "source": [
    "# Hiển thị dataset"
   ]
  },
  {
   "cell_type": "code",
   "execution_count": 4,
   "metadata": {
    "_uuid": "cfaa318b857aea546ea04ab829bcf74f51adbf4c"
   },
   "outputs": [
    {
     "data": {
      "text/plain": [
       "<AxesSubplot:>"
      ]
     },
     "execution_count": 4,
     "metadata": {},
     "output_type": "execute_result"
    },
    {
     "data": {
      "image/png": "[encoded data removed]",
      "text/plain": [
       "<Figure size 432x288 with 2 Axes>"
      ]
     },
     "metadata": {
      "needs_background": "light"
     },
     "output_type": "display_data"
    }
   ],
   "source": [
    "import seaborn as sns\n",
    "corr = df.corr()\n",
    "sns.heatmap(corr, \n",
    "            xticklabels=corr.columns.values,\n",
    "            yticklabels=corr.columns.values)"
   ]
  },
  {
   "cell_type": "markdown",
   "metadata": {},
   "source": [
    "# Tạo model"
   ]
  },
  {
   "cell_type": "code",
   "execution_count": 5,
   "metadata": {
    "_uuid": "ff03b675eef5a407d95c2d49c07cfa0d4fb62426"
   },
   "outputs": [
    {
     "name": "stdout",
     "output_type": "stream",
     "text": [
      "Model: \"Regression\"\n",
      "_________________________________________________________________\n",
      "Layer (type)                 Output Shape              Param #   \n",
      "=================================================================\n",
      "dense (Dense)                (None, 8)                 64        \n",
      "_________________________________________________________________\n",
      "dense_1 (Dense)              (None, 3)                 27        \n",
      "_________________________________________________________________\n",
      "dense_2 (Dense)              (None, 1)                 4         \n",
      "=================================================================\n",
      "Total params: 95\n",
      "Trainable params: 95\n",
      "Non-trainable params: 0\n",
      "_________________________________________________________________\n"
     ]
    }
   ],
   "source": [
    "model = Sequential(name = 'Regression')\n",
    "model.add(Dense(8, input_shape=(7,), activation='relu')) \n",
    "# Nếu input chỉ có 1 chiều thì bắt buộc phải dể trống giá trị thứ 2 của tuple (dimenson, )\n",
    "# activation: 'relu', 'sigmoid', 'tanh', 'linear'.... xem thêm: https://faroit.com/keras-docs/2.0.2/layers/core/#activation\n",
    "model.add(Dense(3, activation='relu'))\n",
    "model.add(Dense(1, activation='relu'))\n",
    "model.compile(loss='mean_squared_error', optimizer='adam')\n",
    "# compile: dùng để thiết lập hàm loss, optimizer\n",
    "# loss: 'mean_squared_error', 'binary_crossentropy'... xem thêm: https://faroit.com/keras-docs/2.0.2/losses/\n",
    "# optimizer: 'adam', 'sgd', 'rmsprop', 'adagrad'... xem thêm: https://faroit.com/keras-docs/2.0.2/optimizers/\n",
    "model.summary()"
   ]
  },
  {
   "cell_type": "markdown",
   "metadata": {},
   "source": [
    "# Tách X, Y"
   ]
  },
  {
   "cell_type": "code",
   "execution_count": 6,
   "metadata": {
    "_uuid": "c0bb76ea62c78528ec9d703c8bd2a2884993dacd"
   },
   "outputs": [],
   "source": [
    "X=np.asarray(df.drop(\"Admission_Chance\",axis=1))\n",
    "Y=np.asarray(df[\"Admission_Chance\"])"
   ]
  },
  {
   "cell_type": "markdown",
   "metadata": {},
   "source": [
    "# Train-test split, scale"
   ]
  },
  {
   "cell_type": "code",
   "execution_count": 7,
   "metadata": {
    "_uuid": "e57145da21a9c81b8ab7f275d2ca39d08f2b0f21"
   },
   "outputs": [],
   "source": [
    "X_train, X_test, y_train, y_test = train_test_split(\n",
    "     X,Y, test_size=0.2, random_state=1)\n",
    "from sklearn.preprocessing import MinMaxScaler\n",
    "scaler =  MinMaxScaler()\n",
    "X_train=scaler.fit_transform(X_train)\n",
    "X_test=scaler.fit_transform(X_test)"
   ]
  },
  {
   "cell_type": "markdown",
   "metadata": {},
   "source": [
    "# Train "
   ]
  },
  {
   "cell_type": "code",
   "execution_count": 8,
   "metadata": {
    "_uuid": "b46f2f44cbbfe40cbfd17c6937cf39da62e25a0e",
    "scrolled": true
   },
   "outputs": [
    {
     "name": "stdout",
     "output_type": "stream",
     "text": [
      "Epoch 1/40\n",
      "134/134 [==============================] - 1s 4ms/step - loss: 0.2490\n",
      "Epoch 2/40\n",
      "134/134 [==============================] - 1s 4ms/step - loss: 0.0058\n",
      "Epoch 3/40\n",
      "134/134 [==============================] - 1s 4ms/step - loss: 0.0053\n",
      "Epoch 4/40\n",
      "134/134 [==============================] - 1s 4ms/step - loss: 0.0051\n",
      "Epoch 5/40\n",
      "134/134 [==============================] - 1s 4ms/step - loss: 0.0049\n",
      "Epoch 6/40\n",
      "134/134 [==============================] - 1s 4ms/step - loss: 0.0048\n",
      "Epoch 7/40\n",
      "134/134 [==============================] - 1s 4ms/step - loss: 0.0046\n",
      "Epoch 8/40\n",
      "134/134 [==============================] - 1s 4ms/step - loss: 0.0044\n",
      "Epoch 9/40\n",
      "134/134 [==============================] - 1s 4ms/step - loss: 0.0043\n",
      "Epoch 10/40\n",
      "134/134 [==============================] - 1s 4ms/step - loss: 0.0041\n",
      "Epoch 11/40\n",
      "134/134 [==============================] - 1s 4ms/step - loss: 0.0040\n",
      "Epoch 12/40\n",
      "134/134 [==============================] - 0s 4ms/step - loss: 0.0040\n",
      "Epoch 13/40\n",
      "134/134 [==============================] - 1s 4ms/step - loss: 0.0039\n",
      "Epoch 14/40\n",
      "134/134 [==============================] - 0s 4ms/step - loss: 0.0039\n",
      "Epoch 15/40\n",
      "134/134 [==============================] - 0s 4ms/step - loss: 0.0038\n",
      "Epoch 16/40\n",
      "134/134 [==============================] - 0s 4ms/step - loss: 0.0038\n",
      "Epoch 17/40\n",
      "134/134 [==============================] - 0s 4ms/step - loss: 0.0038\n",
      "Epoch 18/40\n",
      "134/134 [==============================] - 0s 3ms/step - loss: 0.0038\n",
      "Epoch 19/40\n",
      "134/134 [==============================] - 0s 4ms/step - loss: 0.0038\n",
      "Epoch 20/40\n",
      "134/134 [==============================] - 0s 4ms/step - loss: 0.0038\n",
      "Epoch 21/40\n",
      "134/134 [==============================] - 0s 4ms/step - loss: 0.0038\n",
      "Epoch 22/40\n",
      "134/134 [==============================] - 0s 4ms/step - loss: 0.0039\n",
      "Epoch 23/40\n",
      "134/134 [==============================] - 0s 4ms/step - loss: 0.0037\n",
      "Epoch 24/40\n",
      "134/134 [==============================] - 0s 4ms/step - loss: 0.0038\n",
      "Epoch 25/40\n",
      "134/134 [==============================] - 0s 3ms/step - loss: 0.0038\n",
      "Epoch 26/40\n",
      "134/134 [==============================] - 0s 4ms/step - loss: 0.0038\n",
      "Epoch 27/40\n",
      "134/134 [==============================] - 0s 4ms/step - loss: 0.0038\n",
      "Epoch 28/40\n",
      "134/134 [==============================] - 0s 4ms/step - loss: 0.0037\n",
      "Epoch 29/40\n",
      "134/134 [==============================] - 0s 4ms/step - loss: 0.0038\n",
      "Epoch 30/40\n",
      "134/134 [==============================] - 1s 4ms/step - loss: 0.0038\n",
      "Epoch 31/40\n",
      "134/134 [==============================] - 1s 4ms/step - loss: 0.0038\n",
      "Epoch 32/40\n",
      "134/134 [==============================] - 0s 4ms/step - loss: 0.0038\n",
      "Epoch 33/40\n",
      "134/134 [==============================] - 0s 3ms/step - loss: 0.0038\n",
      "Epoch 34/40\n",
      "134/134 [==============================] - 0s 4ms/step - loss: 0.0038\n",
      "Epoch 35/40\n",
      "134/134 [==============================] - 0s 3ms/step - loss: 0.0037\n",
      "Epoch 36/40\n",
      "134/134 [==============================] - 1s 4ms/step - loss: 0.0037\n",
      "Epoch 37/40\n",
      "134/134 [==============================] - 0s 4ms/step - loss: 0.0037\n",
      "Epoch 38/40\n",
      "134/134 [==============================] - 1s 4ms/step - loss: 0.0038\n",
      "Epoch 39/40\n",
      "134/134 [==============================] - 0s 4ms/step - loss: 0.0038\n",
      "Epoch 40/40\n",
      "134/134 [==============================] - 0s 4ms/step - loss: 0.0037\n"
     ]
    }
   ],
   "source": [
    "history = model.fit(x=X_train, y=y_train, epochs=40,batch_size = 3) \n",
    "# Một Epoch được tính là khi đưa tất cả dữ liệu vào mạng neural network 1 lần.\n",
    "# Batch - chia toàn bộ data thành nhiều gói dữ liệu nhỏ hơn để đưa vào mạng neuron. \n",
    "# Để hoành thành một epoch sẽ cần nhiều lần chạy (iteration) hơn\n"
   ]
  },
  {
   "cell_type": "markdown",
   "metadata": {},
   "source": [
    "# Plot history"
   ]
  },
  {
   "cell_type": "code",
   "execution_count": 9,
   "metadata": {
    "_uuid": "208994294640e4051e29d8d7a30def4d821b2527"
   },
   "outputs": [
    {
     "data": {
      "image/png": "[encoded data removed]",
      "text/plain": [
       "<Figure size 432x288 with 1 Axes>"
      ]
     },
     "metadata": {
      "needs_background": "light"
     },
     "output_type": "display_data"
    }
   ],
   "source": [
    "plt.plot(history.history['loss'])\n",
    "plt.title('Model loss')\n",
    "plt.ylabel('Loss')\n",
    "plt.xlabel('Epoch')\n",
    "plt.legend(['Train', 'Test'], loc='upper left')\n",
    "plt.show()"
   ]
  },
  {
   "cell_type": "markdown",
   "metadata": {},
   "source": [
    "# Đánh giá"
   ]
  },
  {
   "cell_type": "code",
   "execution_count": 10,
   "metadata": {
    "_uuid": "d123197294d59570fd83825060c40f20429f34f4"
   },
   "outputs": [],
   "source": [
    "from sklearn.metrics import accuracy_score\n",
    "prediction = model.predict(X_test)\n"
   ]
  },
  {
   "cell_type": "code",
   "execution_count": 11,
   "metadata": {
    "_uuid": "f722ab5ac8d29b4881252e2dfd9cbff4e181ad63"
   },
   "outputs": [
    {
     "data": {
      "image/png": "[encoded data removed]",
      "text/plain": [
       "<Figure size 432x288 with 1 Axes>"
      ]
     },
     "metadata": {
      "needs_background": "light"
     },
     "output_type": "display_data"
    }
   ],
   "source": [
    "plt.plot(y_test, color = 'green', label = 'Actual')\n",
    "plt.plot(prediction, color = 'blue', label = 'Predicted')\n",
    "plt.grid(alpha = 0.3)\n",
    "plt.xlabel('Number of Candidate')\n",
    "plt.ylabel('Score')\n",
    "plt.title('Actual vs Predicted')\n",
    "plt.legend()\n",
    "plt.show()"
   ]
  },
  {
   "cell_type": "code",
   "execution_count": 12,
   "metadata": {
    "_uuid": "d32f655757419adf6f4b501e683229589e91e2da"
   },
   "outputs": [
    {
     "name": "stdout",
     "output_type": "stream",
     "text": [
      "r_square score:  0.7974865261272338\n",
      "r_square score (train dataset):  0.8198379620950688\n"
     ]
    }
   ],
   "source": [
    "from sklearn.metrics import r2_score\n",
    "print(\"r_square score: \", r2_score(y_test,prediction))\n",
    "train_prediction = model.predict(X_train)\n",
    "print(\"r_square score (train dataset): \", r2_score(y_train,train_prediction))"
   ]
  },
  {
   "cell_type": "code",
   "execution_count": 13,
   "metadata": {},
   "outputs": [
    {
     "name": "stdout",
     "output_type": "stream",
     "text": [
      "4/4 [==============================] - 0s 3ms/step - loss: 0.0039\n"
     ]
    },
    {
     "data": {
      "text/plain": [
       "0.003910737112164497"
      ]
     },
     "execution_count": 13,
     "metadata": {},
     "output_type": "execute_result"
    }
   ],
   "source": [
    "# Tính loss:\n",
    "model.evaluate(X_test, y_test)"
   ]
  },
  {
   "cell_type": "markdown",
   "metadata": {},
   "source": [
    "# Bài tập"
   ]
  },
  {
   "cell_type": "markdown",
   "metadata": {},
   "source": [
    "## Regression sử dụng DNN với bộ dữ liệu housing-data.csv (dự đoán giá nhà)"
   ]
  },
  {
   "cell_type": "code",
   "execution_count": null,
   "metadata": {},
   "outputs": [],
   "source": []
  }
 ],
 "metadata": {
  "kernelspec": {
   "display_name": "Python 3",
   "language": "python",
   "name": "python3"
  },
  "language_info": {
   "codemirror_mode": {
    "name": "ipython",
    "version": 3
   },
   "file_extension": ".py",
   "mimetype": "text/x-python",
   "name": "python",
   "nbconvert_exporter": "python",
   "pygments_lexer": "ipython3",
   "version": "3.8.8"
  },
  "varInspector": {
   "cols": {
    "lenName": 16,
    "lenType": 16,
    "lenVar": 40
   },
   "kernels_config": {
    "python": {
     "delete_cmd_postfix": "",
     "delete_cmd_prefix": "del ",
     "library": "var_list.py",
     "varRefreshCmd": "print(var_dic_list())"
    },
    "r": {
     "delete_cmd_postfix": ") ",
     "delete_cmd_prefix": "rm(",
     "library": "var_list.r",
     "varRefreshCmd": "cat(var_dic_list()) "
    }
   },
   "position": {
    "height": "432.841px",
    "left": "816px",
    "right": "20px",
    "top": "147px",
    "width": "433px"
   },
   "types_to_exclude": [
    "module",
    "function",
    "builtin_function_or_method",
    "instance",
    "_Feature"
   ],
   "window_display": false
  }
 },
 "nbformat": 4,
 "nbformat_minor": 1
}
