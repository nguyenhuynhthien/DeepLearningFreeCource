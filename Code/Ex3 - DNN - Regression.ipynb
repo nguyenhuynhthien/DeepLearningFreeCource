{
 "cells": [
  {
   "cell_type": "markdown",
   "metadata": {},
   "source": [
    "# Import modules"
   ]
  },
  {
   "cell_type": "code",
   "execution_count": 191,
   "metadata": {
    "_cell_guid": "b1076dfc-b9ad-4769-8c92-a6c4dae69d19",
    "_uuid": "8f2839f25d086af736a60e9eeb907d3b93b6e0e5"
   },
   "outputs": [],
   "source": [
    "import numpy as np \n",
    "import pandas as pd \n",
    "import matplotlib.pyplot as plt\n",
    "from sklearn.model_selection import train_test_split\n",
    "from keras.models import Sequential\n",
    "from keras.layers import Dense"
   ]
  },
  {
   "cell_type": "markdown",
   "metadata": {},
   "source": [
    "# Lấy dataset"
   ]
  },
  {
   "cell_type": "code",
   "execution_count": 192,
   "metadata": {
    "_cell_guid": "79c7e3d0-c299-4dcb-8224-4455121ee9b0",
    "_uuid": "d629ff2d2480ee46fbb7e2d37f6b5fab8052498a"
   },
   "outputs": [
    {
     "data": {
      "text/html": [
       "<div>\n",
       "<style scoped>\n",
       "    .dataframe tbody tr th:only-of-type {\n",
       "        vertical-align: middle;\n",
       "    }\n",
       "\n",
       "    .dataframe tbody tr th {\n",
       "        vertical-align: top;\n",
       "    }\n",
       "\n",
       "    .dataframe thead th {\n",
       "        text-align: right;\n",
       "    }\n",
       "</style>\n",
       "<table border=\"1\" class=\"dataframe\">\n",
       "  <thead>\n",
       "    <tr style=\"text-align: right;\">\n",
       "      <th></th>\n",
       "      <th>CRIM</th>\n",
       "      <th>ZN</th>\n",
       "      <th>INDUS</th>\n",
       "      <th>CHAS</th>\n",
       "      <th>NOX</th>\n",
       "      <th>RM</th>\n",
       "      <th>AGE</th>\n",
       "      <th>DIS</th>\n",
       "      <th>RAD</th>\n",
       "      <th>TAX</th>\n",
       "      <th>PTRATIO</th>\n",
       "      <th>B</th>\n",
       "      <th>LSTAT</th>\n",
       "      <th>MEDV</th>\n",
       "    </tr>\n",
       "  </thead>\n",
       "  <tbody>\n",
       "    <tr>\n",
       "      <th>0</th>\n",
       "      <td>0.00632</td>\n",
       "      <td>18.0</td>\n",
       "      <td>2.31</td>\n",
       "      <td>0.0</td>\n",
       "      <td>0.538</td>\n",
       "      <td>6.575</td>\n",
       "      <td>65.2</td>\n",
       "      <td>4.0900</td>\n",
       "      <td>1</td>\n",
       "      <td>296</td>\n",
       "      <td>15.3</td>\n",
       "      <td>396.90</td>\n",
       "      <td>4.98</td>\n",
       "      <td>24.0</td>\n",
       "    </tr>\n",
       "    <tr>\n",
       "      <th>1</th>\n",
       "      <td>0.02731</td>\n",
       "      <td>0.0</td>\n",
       "      <td>7.07</td>\n",
       "      <td>0.0</td>\n",
       "      <td>0.469</td>\n",
       "      <td>6.421</td>\n",
       "      <td>78.9</td>\n",
       "      <td>4.9671</td>\n",
       "      <td>2</td>\n",
       "      <td>242</td>\n",
       "      <td>17.8</td>\n",
       "      <td>396.90</td>\n",
       "      <td>9.14</td>\n",
       "      <td>21.6</td>\n",
       "    </tr>\n",
       "    <tr>\n",
       "      <th>2</th>\n",
       "      <td>0.02729</td>\n",
       "      <td>0.0</td>\n",
       "      <td>7.07</td>\n",
       "      <td>0.0</td>\n",
       "      <td>0.469</td>\n",
       "      <td>7.185</td>\n",
       "      <td>61.1</td>\n",
       "      <td>4.9671</td>\n",
       "      <td>2</td>\n",
       "      <td>242</td>\n",
       "      <td>17.8</td>\n",
       "      <td>392.83</td>\n",
       "      <td>4.03</td>\n",
       "      <td>34.7</td>\n",
       "    </tr>\n",
       "    <tr>\n",
       "      <th>3</th>\n",
       "      <td>0.03237</td>\n",
       "      <td>0.0</td>\n",
       "      <td>2.18</td>\n",
       "      <td>0.0</td>\n",
       "      <td>0.458</td>\n",
       "      <td>6.998</td>\n",
       "      <td>45.8</td>\n",
       "      <td>6.0622</td>\n",
       "      <td>3</td>\n",
       "      <td>222</td>\n",
       "      <td>18.7</td>\n",
       "      <td>394.63</td>\n",
       "      <td>2.94</td>\n",
       "      <td>33.4</td>\n",
       "    </tr>\n",
       "    <tr>\n",
       "      <th>5</th>\n",
       "      <td>0.02985</td>\n",
       "      <td>0.0</td>\n",
       "      <td>2.18</td>\n",
       "      <td>0.0</td>\n",
       "      <td>0.458</td>\n",
       "      <td>6.430</td>\n",
       "      <td>58.7</td>\n",
       "      <td>6.0622</td>\n",
       "      <td>3</td>\n",
       "      <td>222</td>\n",
       "      <td>18.7</td>\n",
       "      <td>394.12</td>\n",
       "      <td>5.21</td>\n",
       "      <td>28.7</td>\n",
       "    </tr>\n",
       "    <tr>\n",
       "      <th>7</th>\n",
       "      <td>0.14455</td>\n",
       "      <td>12.5</td>\n",
       "      <td>7.87</td>\n",
       "      <td>0.0</td>\n",
       "      <td>0.524</td>\n",
       "      <td>6.172</td>\n",
       "      <td>96.1</td>\n",
       "      <td>5.9505</td>\n",
       "      <td>5</td>\n",
       "      <td>311</td>\n",
       "      <td>15.2</td>\n",
       "      <td>396.90</td>\n",
       "      <td>19.15</td>\n",
       "      <td>27.1</td>\n",
       "    </tr>\n",
       "    <tr>\n",
       "      <th>8</th>\n",
       "      <td>0.21124</td>\n",
       "      <td>12.5</td>\n",
       "      <td>7.87</td>\n",
       "      <td>0.0</td>\n",
       "      <td>0.524</td>\n",
       "      <td>5.631</td>\n",
       "      <td>100.0</td>\n",
       "      <td>6.0821</td>\n",
       "      <td>5</td>\n",
       "      <td>311</td>\n",
       "      <td>15.2</td>\n",
       "      <td>386.63</td>\n",
       "      <td>29.93</td>\n",
       "      <td>16.5</td>\n",
       "    </tr>\n",
       "    <tr>\n",
       "      <th>10</th>\n",
       "      <td>0.22489</td>\n",
       "      <td>12.5</td>\n",
       "      <td>7.87</td>\n",
       "      <td>0.0</td>\n",
       "      <td>0.524</td>\n",
       "      <td>6.377</td>\n",
       "      <td>94.3</td>\n",
       "      <td>6.3467</td>\n",
       "      <td>5</td>\n",
       "      <td>311</td>\n",
       "      <td>15.2</td>\n",
       "      <td>392.52</td>\n",
       "      <td>20.45</td>\n",
       "      <td>15.0</td>\n",
       "    </tr>\n",
       "    <tr>\n",
       "      <th>11</th>\n",
       "      <td>0.11747</td>\n",
       "      <td>12.5</td>\n",
       "      <td>7.87</td>\n",
       "      <td>0.0</td>\n",
       "      <td>0.524</td>\n",
       "      <td>6.009</td>\n",
       "      <td>82.9</td>\n",
       "      <td>6.2267</td>\n",
       "      <td>5</td>\n",
       "      <td>311</td>\n",
       "      <td>15.2</td>\n",
       "      <td>396.90</td>\n",
       "      <td>13.27</td>\n",
       "      <td>18.9</td>\n",
       "    </tr>\n",
       "    <tr>\n",
       "      <th>12</th>\n",
       "      <td>0.09378</td>\n",
       "      <td>12.5</td>\n",
       "      <td>7.87</td>\n",
       "      <td>0.0</td>\n",
       "      <td>0.524</td>\n",
       "      <td>5.889</td>\n",
       "      <td>39.0</td>\n",
       "      <td>5.4509</td>\n",
       "      <td>5</td>\n",
       "      <td>311</td>\n",
       "      <td>15.2</td>\n",
       "      <td>390.50</td>\n",
       "      <td>15.71</td>\n",
       "      <td>21.7</td>\n",
       "    </tr>\n",
       "  </tbody>\n",
       "</table>\n",
       "</div>"
      ],
      "text/plain": [
       "       CRIM    ZN  INDUS  CHAS    NOX     RM    AGE     DIS  RAD  TAX  \\\n",
       "0   0.00632  18.0   2.31   0.0  0.538  6.575   65.2  4.0900    1  296   \n",
       "1   0.02731   0.0   7.07   0.0  0.469  6.421   78.9  4.9671    2  242   \n",
       "2   0.02729   0.0   7.07   0.0  0.469  7.185   61.1  4.9671    2  242   \n",
       "3   0.03237   0.0   2.18   0.0  0.458  6.998   45.8  6.0622    3  222   \n",
       "5   0.02985   0.0   2.18   0.0  0.458  6.430   58.7  6.0622    3  222   \n",
       "7   0.14455  12.5   7.87   0.0  0.524  6.172   96.1  5.9505    5  311   \n",
       "8   0.21124  12.5   7.87   0.0  0.524  5.631  100.0  6.0821    5  311   \n",
       "10  0.22489  12.5   7.87   0.0  0.524  6.377   94.3  6.3467    5  311   \n",
       "11  0.11747  12.5   7.87   0.0  0.524  6.009   82.9  6.2267    5  311   \n",
       "12  0.09378  12.5   7.87   0.0  0.524  5.889   39.0  5.4509    5  311   \n",
       "\n",
       "    PTRATIO       B  LSTAT  MEDV  \n",
       "0      15.3  396.90   4.98  24.0  \n",
       "1      17.8  396.90   9.14  21.6  \n",
       "2      17.8  392.83   4.03  34.7  \n",
       "3      18.7  394.63   2.94  33.4  \n",
       "5      18.7  394.12   5.21  28.7  \n",
       "7      15.2  396.90  19.15  27.1  \n",
       "8      15.2  386.63  29.93  16.5  \n",
       "10     15.2  392.52  20.45  15.0  \n",
       "11     15.2  396.90  13.27  18.9  \n",
       "12     15.2  390.50  15.71  21.7  "
      ]
     },
     "execution_count": 192,
     "metadata": {},
     "output_type": "execute_result"
    }
   ],
   "source": [
    "df=pd.read_csv(\"../data/BostonHousingData.csv\")\n",
    "df = df.dropna()\n",
    "df.head(10)"
   ]
  },
  {
   "cell_type": "code",
   "execution_count": 193,
   "metadata": {
    "_uuid": "ee3dbedb59bf0e29231083a541e08891889ad3a1"
   },
   "outputs": [
    {
     "name": "stdout",
     "output_type": "stream",
     "text": [
      "<class 'pandas.core.frame.DataFrame'>\n",
      "Int64Index: 394 entries, 0 to 504\n",
      "Data columns (total 14 columns):\n",
      " #   Column   Non-Null Count  Dtype  \n",
      "---  ------   --------------  -----  \n",
      " 0   CRIM     394 non-null    float64\n",
      " 1   ZN       394 non-null    float64\n",
      " 2   INDUS    394 non-null    float64\n",
      " 3   CHAS     394 non-null    float64\n",
      " 4   NOX      394 non-null    float64\n",
      " 5   RM       394 non-null    float64\n",
      " 6   AGE      394 non-null    float64\n",
      " 7   DIS      394 non-null    float64\n",
      " 8   RAD      394 non-null    int64  \n",
      " 9   TAX      394 non-null    int64  \n",
      " 10  PTRATIO  394 non-null    float64\n",
      " 11  B        394 non-null    float64\n",
      " 12  LSTAT    394 non-null    float64\n",
      " 13  MEDV     394 non-null    float64\n",
      "dtypes: float64(12), int64(2)\n",
      "memory usage: 46.2 KB\n"
     ]
    }
   ],
   "source": [
    "df.info()"
   ]
  },
  {
   "cell_type": "markdown",
   "metadata": {},
   "source": [
    "# Hiển thị dataset"
   ]
  },
  {
   "cell_type": "code",
   "execution_count": 194,
   "metadata": {
    "_uuid": "cfaa318b857aea546ea04ab829bcf74f51adbf4c"
   },
   "outputs": [
    {
     "data": {
      "text/plain": [
       "<AxesSubplot:>"
      ]
     },
     "execution_count": 194,
     "metadata": {},
     "output_type": "execute_result"
    },
    {
     "data": {
      "image/png": "[encoded data removed]",
      "text/plain": [
       "<Figure size 432x288 with 2 Axes>"
      ]
     },
     "metadata": {
      "needs_background": "light"
     },
     "output_type": "display_data"
    }
   ],
   "source": [
    "import seaborn as sns\n",
    "corr = df.corr()\n",
    "sns.heatmap(corr, \n",
    "            xticklabels=corr.columns.values,\n",
    "            yticklabels=corr.columns.values)"
   ]
  },
  {
   "cell_type": "markdown",
   "metadata": {},
   "source": [
    "# Tạo model"
   ]
  },
  {
   "cell_type": "code",
   "execution_count": 195,
   "metadata": {
    "_uuid": "ff03b675eef5a407d95c2d49c07cfa0d4fb62426"
   },
   "outputs": [
    {
     "name": "stdout",
     "output_type": "stream",
     "text": [
      "Model: \"Ex-Regression\"\n",
      "_________________________________________________________________\n",
      "Layer (type)                 Output Shape              Param #   \n",
      "=================================================================\n",
      "dense_63 (Dense)             (None, 13)                182       \n",
      "_________________________________________________________________\n",
      "dense_64 (Dense)             (None, 8)                 112       \n",
      "_________________________________________________________________\n",
      "dense_65 (Dense)             (None, 1)                 9         \n",
      "=================================================================\n",
      "Total params: 303\n",
      "Trainable params: 303\n",
      "Non-trainable params: 0\n",
      "_________________________________________________________________\n"
     ]
    }
   ],
   "source": [
    "model = Sequential(name = 'Ex-Regression')\n",
    "model.add(Dense(13, input_shape=(13,), activation='relu')) \n",
    "model.add(Dense(8, activation='relu'))\n",
    "model.add(Dense(1, activation='relu'))\n",
    "model.compile(loss='mean_squared_error', optimizer='adam')\n",
    "model.summary()"
   ]
  },
  {
   "cell_type": "markdown",
   "metadata": {},
   "source": [
    "# Tách X, Y"
   ]
  },
  {
   "cell_type": "code",
   "execution_count": 196,
   "metadata": {
    "_uuid": "c0bb76ea62c78528ec9d703c8bd2a2884993dacd"
   },
   "outputs": [],
   "source": [
    "X=np.asarray(df.drop(\"MEDV\",axis=1))\n",
    "Y=np.asarray(df[\"MEDV\"])"
   ]
  },
  {
   "cell_type": "markdown",
   "metadata": {},
   "source": [
    "# Train-test split, scale"
   ]
  },
  {
   "cell_type": "code",
   "execution_count": 197,
   "metadata": {
    "_uuid": "e57145da21a9c81b8ab7f275d2ca39d08f2b0f21"
   },
   "outputs": [],
   "source": [
    "X_train, X_test, y_train, y_test = train_test_split(\n",
    "     X,Y, test_size=0.2, random_state=1)\n",
    "from sklearn.preprocessing import MinMaxScaler\n",
    "scaler =  MinMaxScaler()\n",
    "X_train=scaler.fit_transform(X_train)\n",
    "X_test=scaler.fit_transform(X_test)"
   ]
  },
  {
   "cell_type": "markdown",
   "metadata": {},
   "source": [
    "# Train "
   ]
  },
  {
   "cell_type": "code",
   "execution_count": 198,
   "metadata": {
    "_uuid": "b46f2f44cbbfe40cbfd17c6937cf39da62e25a0e",
    "scrolled": true
   },
   "outputs": [
    {
     "name": "stdout",
     "output_type": "stream",
     "text": [
      "Epoch 1/100\n",
      "32/32 [==============================] - 0s 4ms/step - loss: 576.2556\n",
      "Epoch 2/100\n",
      "32/32 [==============================] - 0s 4ms/step - loss: 564.9093\n",
      "Epoch 3/100\n",
      "32/32 [==============================] - 0s 4ms/step - loss: 546.3840\n",
      "Epoch 4/100\n",
      "32/32 [==============================] - 0s 4ms/step - loss: 515.5464\n",
      "Epoch 5/100\n",
      "32/32 [==============================] - 0s 4ms/step - loss: 462.5835\n",
      "Epoch 6/100\n",
      "32/32 [==============================] - 0s 4ms/step - loss: 391.3314\n",
      "Epoch 7/100\n",
      "32/32 [==============================] - 0s 4ms/step - loss: 310.0387\n",
      "Epoch 8/100\n",
      "32/32 [==============================] - 0s 4ms/step - loss: 232.1300\n",
      "Epoch 9/100\n",
      "32/32 [==============================] - 0s 4ms/step - loss: 173.8461\n",
      "Epoch 10/100\n",
      "32/32 [==============================] - 0s 4ms/step - loss: 141.3364\n",
      "Epoch 11/100\n",
      "32/32 [==============================] - 0s 4ms/step - loss: 125.8782\n",
      "Epoch 12/100\n",
      "32/32 [==============================] - 0s 4ms/step - loss: 117.3994\n",
      "Epoch 13/100\n",
      "32/32 [==============================] - 0s 4ms/step - loss: 110.9047\n",
      "Epoch 14/100\n",
      "32/32 [==============================] - 0s 4ms/step - loss: 105.3554\n",
      "Epoch 15/100\n",
      "32/32 [==============================] - 0s 4ms/step - loss: 99.9642\n",
      "Epoch 16/100\n",
      "32/32 [==============================] - 0s 4ms/step - loss: 94.9784\n",
      "Epoch 17/100\n",
      "32/32 [==============================] - 0s 4ms/step - loss: 90.3537\n",
      "Epoch 18/100\n",
      "32/32 [==============================] - 0s 4ms/step - loss: 86.7320\n",
      "Epoch 19/100\n",
      "32/32 [==============================] - 0s 4ms/step - loss: 81.6684\n",
      "Epoch 20/100\n",
      "32/32 [==============================] - 0s 4ms/step - loss: 78.0200\n",
      "Epoch 21/100\n",
      "32/32 [==============================] - 0s 4ms/step - loss: 74.2281\n",
      "Epoch 22/100\n",
      "32/32 [==============================] - 0s 4ms/step - loss: 71.0872\n",
      "Epoch 23/100\n",
      "32/32 [==============================] - 0s 4ms/step - loss: 67.9455\n",
      "Epoch 24/100\n",
      "32/32 [==============================] - 0s 4ms/step - loss: 64.9142\n",
      "Epoch 25/100\n",
      "32/32 [==============================] - 0s 4ms/step - loss: 62.3030\n",
      "Epoch 26/100\n",
      "32/32 [==============================] - 0s 4ms/step - loss: 59.7395\n",
      "Epoch 27/100\n",
      "32/32 [==============================] - 0s 4ms/step - loss: 57.5762\n",
      "Epoch 28/100\n",
      "32/32 [==============================] - 0s 4ms/step - loss: 55.6356\n",
      "Epoch 29/100\n",
      "32/32 [==============================] - 0s 4ms/step - loss: 53.9268\n",
      "Epoch 30/100\n",
      "32/32 [==============================] - 0s 5ms/step - loss: 52.3468\n",
      "Epoch 31/100\n",
      "32/32 [==============================] - 0s 4ms/step - loss: 50.8056\n",
      "Epoch 32/100\n",
      "32/32 [==============================] - 0s 4ms/step - loss: 49.6037\n",
      "Epoch 33/100\n",
      "32/32 [==============================] - 0s 4ms/step - loss: 48.5997\n",
      "Epoch 34/100\n",
      "32/32 [==============================] - 0s 5ms/step - loss: 47.4565\n",
      "Epoch 35/100\n",
      "32/32 [==============================] - 0s 4ms/step - loss: 46.6341\n",
      "Epoch 36/100\n",
      "32/32 [==============================] - 0s 5ms/step - loss: 45.7760\n",
      "Epoch 37/100\n",
      "32/32 [==============================] - 0s 4ms/step - loss: 44.9227\n",
      "Epoch 38/100\n",
      "32/32 [==============================] - 0s 4ms/step - loss: 44.3023\n",
      "Epoch 39/100\n",
      "32/32 [==============================] - 0s 4ms/step - loss: 43.5317\n",
      "Epoch 40/100\n",
      "32/32 [==============================] - 0s 4ms/step - loss: 43.0736\n",
      "Epoch 41/100\n",
      "32/32 [==============================] - 0s 4ms/step - loss: 42.5497\n",
      "Epoch 42/100\n",
      "32/32 [==============================] - 0s 4ms/step - loss: 41.8580\n",
      "Epoch 43/100\n",
      "32/32 [==============================] - 0s 4ms/step - loss: 41.2500\n",
      "Epoch 44/100\n",
      "32/32 [==============================] - 0s 4ms/step - loss: 40.7217\n",
      "Epoch 45/100\n",
      "32/32 [==============================] - 0s 5ms/step - loss: 40.2041\n",
      "Epoch 46/100\n",
      "32/32 [==============================] - 0s 5ms/step - loss: 39.6290\n",
      "Epoch 47/100\n",
      "32/32 [==============================] - 0s 4ms/step - loss: 39.1153\n",
      "Epoch 48/100\n",
      "32/32 [==============================] - 0s 4ms/step - loss: 38.6097\n",
      "Epoch 49/100\n",
      "32/32 [==============================] - 0s 4ms/step - loss: 38.1618\n",
      "Epoch 50/100\n",
      "32/32 [==============================] - 0s 4ms/step - loss: 37.6956\n",
      "Epoch 51/100\n",
      "32/32 [==============================] - 0s 4ms/step - loss: 37.2277\n",
      "Epoch 52/100\n",
      "32/32 [==============================] - 0s 4ms/step - loss: 36.6446\n",
      "Epoch 53/100\n",
      "32/32 [==============================] - 0s 4ms/step - loss: 36.2071\n",
      "Epoch 54/100\n",
      "32/32 [==============================] - 0s 4ms/step - loss: 35.7421\n",
      "Epoch 55/100\n",
      "32/32 [==============================] - 0s 4ms/step - loss: 35.2834\n",
      "Epoch 56/100\n",
      "32/32 [==============================] - 0s 4ms/step - loss: 34.8316\n",
      "Epoch 57/100\n",
      "32/32 [==============================] - 0s 4ms/step - loss: 34.3591\n",
      "Epoch 58/100\n",
      "32/32 [==============================] - 0s 4ms/step - loss: 34.1288\n",
      "Epoch 59/100\n",
      "32/32 [==============================] - 0s 4ms/step - loss: 33.5105\n",
      "Epoch 60/100\n",
      "32/32 [==============================] - 0s 4ms/step - loss: 33.1336\n",
      "Epoch 61/100\n",
      "32/32 [==============================] - 0s 4ms/step - loss: 32.6552\n",
      "Epoch 62/100\n",
      "32/32 [==============================] - 0s 4ms/step - loss: 32.4088\n",
      "Epoch 63/100\n",
      "32/32 [==============================] - 0s 4ms/step - loss: 31.9067\n",
      "Epoch 64/100\n",
      "32/32 [==============================] - 0s 4ms/step - loss: 31.6452\n",
      "Epoch 65/100\n",
      "32/32 [==============================] - 0s 4ms/step - loss: 31.3210\n",
      "Epoch 66/100\n",
      "32/32 [==============================] - 0s 4ms/step - loss: 30.7249\n",
      "Epoch 67/100\n",
      "32/32 [==============================] - 0s 4ms/step - loss: 30.6110\n",
      "Epoch 68/100\n",
      "32/32 [==============================] - 0s 4ms/step - loss: 30.1385\n",
      "Epoch 69/100\n",
      "32/32 [==============================] - 0s 4ms/step - loss: 29.8423\n",
      "Epoch 70/100\n",
      "32/32 [==============================] - 0s 4ms/step - loss: 29.2969\n",
      "Epoch 71/100\n",
      "32/32 [==============================] - 0s 4ms/step - loss: 29.0534\n",
      "Epoch 72/100\n",
      "32/32 [==============================] - 0s 4ms/step - loss: 28.7604\n",
      "Epoch 73/100\n",
      "32/32 [==============================] - 0s 4ms/step - loss: 28.6600\n",
      "Epoch 74/100\n",
      "32/32 [==============================] - 0s 4ms/step - loss: 27.9104\n",
      "Epoch 75/100\n",
      "32/32 [==============================] - 0s 4ms/step - loss: 27.6488\n",
      "Epoch 76/100\n",
      "32/32 [==============================] - 0s 4ms/step - loss: 27.3444\n",
      "Epoch 77/100\n",
      "32/32 [==============================] - 0s 4ms/step - loss: 27.1188\n",
      "Epoch 78/100\n",
      "32/32 [==============================] - 0s 4ms/step - loss: 26.7408\n",
      "Epoch 79/100\n",
      "32/32 [==============================] - 0s 4ms/step - loss: 26.4698\n",
      "Epoch 80/100\n",
      "32/32 [==============================] - 0s 4ms/step - loss: 26.1681\n",
      "Epoch 81/100\n",
      "32/32 [==============================] - 0s 4ms/step - loss: 25.9384\n",
      "Epoch 82/100\n",
      "32/32 [==============================] - 0s 4ms/step - loss: 25.6504\n",
      "Epoch 83/100\n",
      "32/32 [==============================] - 0s 4ms/step - loss: 25.4080\n",
      "Epoch 84/100\n",
      "32/32 [==============================] - 0s 4ms/step - loss: 25.3561\n",
      "Epoch 85/100\n",
      "32/32 [==============================] - 0s 4ms/step - loss: 25.0124\n",
      "Epoch 86/100\n",
      "32/32 [==============================] - 0s 4ms/step - loss: 24.7576\n",
      "Epoch 87/100\n",
      "32/32 [==============================] - 0s 4ms/step - loss: 24.5067\n",
      "Epoch 88/100\n",
      "32/32 [==============================] - 0s 4ms/step - loss: 24.6704\n",
      "Epoch 89/100\n",
      "32/32 [==============================] - 0s 4ms/step - loss: 24.2993\n",
      "Epoch 90/100\n",
      "32/32 [==============================] - 0s 4ms/step - loss: 23.8090\n",
      "Epoch 91/100\n",
      "32/32 [==============================] - 0s 4ms/step - loss: 24.2335\n",
      "Epoch 92/100\n",
      "32/32 [==============================] - 0s 4ms/step - loss: 23.3823\n",
      "Epoch 93/100\n",
      "32/32 [==============================] - 0s 4ms/step - loss: 23.2161\n",
      "Epoch 94/100\n",
      "32/32 [==============================] - 0s 4ms/step - loss: 23.0113\n",
      "Epoch 95/100\n",
      "32/32 [==============================] - 0s 4ms/step - loss: 22.8160\n",
      "Epoch 96/100\n",
      "32/32 [==============================] - 0s 4ms/step - loss: 22.6695\n",
      "Epoch 97/100\n",
      "32/32 [==============================] - 0s 4ms/step - loss: 22.4737\n",
      "Epoch 98/100\n",
      "32/32 [==============================] - 0s 4ms/step - loss: 22.3285\n",
      "Epoch 99/100\n",
      "32/32 [==============================] - 0s 5ms/step - loss: 22.2560\n",
      "Epoch 100/100\n"
     ]
    },
    {
     "name": "stdout",
     "output_type": "stream",
     "text": [
      "32/32 [==============================] - 0s 5ms/step - loss: 22.0510\n"
     ]
    }
   ],
   "source": [
    "history = model.fit(x=X_train, y=y_train, epochs=100, batch_size = 10) "
   ]
  },
  {
   "cell_type": "markdown",
   "metadata": {},
   "source": [
    "# Plot history"
   ]
  },
  {
   "cell_type": "code",
   "execution_count": 199,
   "metadata": {
    "_uuid": "208994294640e4051e29d8d7a30def4d821b2527"
   },
   "outputs": [
    {
     "data": {
      "image/png": "[encoded data removed]",
      "text/plain": [
       "<Figure size 432x288 with 1 Axes>"
      ]
     },
     "metadata": {
      "needs_background": "light"
     },
     "output_type": "display_data"
    }
   ],
   "source": [
    "plt.plot(history.history['loss'])\n",
    "plt.title('Model loss')\n",
    "plt.ylabel('Loss')\n",
    "plt.xlabel('Epoch')\n",
    "plt.legend(['Train', 'Test'], loc='upper left')\n",
    "plt.show()"
   ]
  },
  {
   "cell_type": "markdown",
   "metadata": {},
   "source": [
    "# Đánh giá"
   ]
  },
  {
   "cell_type": "code",
   "execution_count": 200,
   "metadata": {
    "_uuid": "d123197294d59570fd83825060c40f20429f34f4"
   },
   "outputs": [],
   "source": [
    "from sklearn.metrics import accuracy_score\n",
    "prediction = model.predict(X_test)\n"
   ]
  },
  {
   "cell_type": "code",
   "execution_count": 201,
   "metadata": {
    "_uuid": "f722ab5ac8d29b4881252e2dfd9cbff4e181ad63"
   },
   "outputs": [
    {
     "data": {
      "image/png": "[encoded data removed]",
      "text/plain": [
       "<Figure size 432x288 with 1 Axes>"
      ]
     },
     "metadata": {
      "needs_background": "light"
     },
     "output_type": "display_data"
    }
   ],
   "source": [
    "plt.plot(y_test, color = 'green', label = 'Actual')\n",
    "plt.plot(prediction, color = 'blue', label = 'Predicted')\n",
    "plt.grid(alpha = 0.3)\n",
    "plt.xlabel('Number of Candidate')\n",
    "plt.ylabel('Score')\n",
    "plt.title('Actual vs Predicted')\n",
    "plt.legend()\n",
    "plt.show()"
   ]
  },
  {
   "cell_type": "code",
   "execution_count": 202,
   "metadata": {
    "_uuid": "d32f655757419adf6f4b501e683229589e91e2da"
   },
   "outputs": [
    {
     "name": "stdout",
     "output_type": "stream",
     "text": [
      "r_square score:  0.7986023648883285\n",
      "r_square score (train dataset):  0.7328414140866608\n"
     ]
    }
   ],
   "source": [
    "from sklearn.metrics import r2_score\n",
    "print(\"r_square score: \", r2_score(y_test,prediction))\n",
    "train_prediction = model.predict(X_train)\n",
    "print(\"r_square score (train dataset): \", r2_score(y_train,train_prediction))"
   ]
  },
  {
   "cell_type": "code",
   "execution_count": 203,
   "metadata": {},
   "outputs": [
    {
     "name": "stdout",
     "output_type": "stream",
     "text": [
      "3/3 [==============================] - 0s 4ms/step - loss: 17.9731\n"
     ]
    },
    {
     "data": {
      "text/plain": [
       "17.9731388092041"
      ]
     },
     "execution_count": 203,
     "metadata": {},
     "output_type": "execute_result"
    }
   ],
   "source": [
    "# Tính loss:\n",
    "model.evaluate(X_test, y_test)"
   ]
  },
  {
   "cell_type": "code",
   "execution_count": null,
   "metadata": {},
   "outputs": [],
   "source": []
  }
 ],
 "metadata": {
  "kernelspec": {
   "display_name": "Python 3",
   "language": "python",
   "name": "python3"
  },
  "language_info": {
   "codemirror_mode": {
    "name": "ipython",
    "version": 3
   },
   "file_extension": ".py",
   "mimetype": "text/x-python",
   "name": "python",
   "nbconvert_exporter": "python",
   "pygments_lexer": "ipython3",
   "version": "3.8.8"
  },
  "varInspector": {
   "cols": {
    "lenName": 16,
    "lenType": 16,
    "lenVar": 40
   },
   "kernels_config": {
    "python": {
     "delete_cmd_postfix": "",
     "delete_cmd_prefix": "del ",
     "library": "var_list.py",
     "varRefreshCmd": "print(var_dic_list())"
    },
    "r": {
     "delete_cmd_postfix": ") ",
     "delete_cmd_prefix": "rm(",
     "library": "var_list.r",
     "varRefreshCmd": "cat(var_dic_list()) "
    }
   },
   "position": {
    "height": "432.841px",
    "left": "816px",
    "right": "20px",
    "top": "147px",
    "width": "433px"
   },
   "types_to_exclude": [
    "module",
    "function",
    "builtin_function_or_method",
    "instance",
    "_Feature"
   ],
   "window_display": false
  }
 },
 "nbformat": 4,
 "nbformat_minor": 1
}
