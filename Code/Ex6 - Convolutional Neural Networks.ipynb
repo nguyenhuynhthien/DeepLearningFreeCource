{
 "cells": [
  {
   "cell_type": "markdown",
   "metadata": {},
   "source": [
    "# Bài toán nhận diện bộ dữ liệu Cifar"
   ]
  },
  {
   "cell_type": "code",
   "execution_count": 14,
   "metadata": {},
   "outputs": [],
   "source": [
    "import pandas as pd\n",
    "import numpy as np\n",
    "%matplotlib inline\n",
    "import matplotlib.pyplot as plt"
   ]
  },
  {
   "cell_type": "code",
   "execution_count": 15,
   "metadata": {},
   "outputs": [],
   "source": [
    "from tensorflow.keras.utils import to_categorical"
   ]
  },
  {
   "cell_type": "code",
   "execution_count": 16,
   "metadata": {},
   "outputs": [],
   "source": [
    "from tensorflow.keras.models import Sequential\n",
    "from tensorflow.keras.layers import Dense, Conv2D, MaxPool2D, Flatten\n",
    "import tensorflow.keras.backend as K\n",
    "from tensorflow.keras.callbacks import EarlyStopping"
   ]
  },
  {
   "cell_type": "code",
   "execution_count": 17,
   "metadata": {},
   "outputs": [],
   "source": [
    "from tensorflow.keras.datasets import cifar10"
   ]
  },
  {
   "cell_type": "markdown",
   "metadata": {},
   "source": [
    "### Tải dữ liệu"
   ]
  },
  {
   "cell_type": "code",
   "execution_count": 18,
   "metadata": {},
   "outputs": [],
   "source": [
    "(X_train, y_train), (X_test, y_test) = cifar10.load_data()\n",
    "# Dữ liệu sẽ được tải về và lưu ở C:\\Users\\thien\\.keras\\datasets\\"
   ]
  },
  {
   "cell_type": "code",
   "execution_count": 19,
   "metadata": {},
   "outputs": [
    {
     "data": {
      "text/plain": [
       "(50000, 32, 32, 3)"
      ]
     },
     "execution_count": 19,
     "metadata": {},
     "output_type": "execute_result"
    }
   ],
   "source": [
    "X_train.shape"
   ]
  },
  {
   "cell_type": "code",
   "execution_count": 20,
   "metadata": {},
   "outputs": [
    {
     "data": {
      "text/plain": [
       "<matplotlib.image.AxesImage at 0x1f2fbed8d60>"
      ]
     },
     "execution_count": 20,
     "metadata": {},
     "output_type": "execute_result"
    },
    {
     "data": {
      "image/png": "[encoded data removed]",
      "text/plain": [
       "<Figure size 432x288 with 1 Axes>"
      ]
     },
     "metadata": {
      "needs_background": "light"
     },
     "output_type": "display_data"
    }
   ],
   "source": [
    "plt.imshow(X_train[1])"
   ]
  },
  {
   "cell_type": "code",
   "execution_count": 21,
   "metadata": {},
   "outputs": [],
   "source": [
    "# Chuẩn hoá lại\n",
    "X_train = X_train.astype('float32') / 255.0\n",
    "X_test = X_test.astype('float32') / 255.0"
   ]
  },
  {
   "cell_type": "code",
   "execution_count": 22,
   "metadata": {},
   "outputs": [
    {
     "data": {
      "text/plain": [
       "(50000, 1)"
      ]
     },
     "execution_count": 22,
     "metadata": {},
     "output_type": "execute_result"
    }
   ],
   "source": [
    "y_train.shape"
   ]
  },
  {
   "cell_type": "markdown",
   "metadata": {},
   "source": [
    "### Chuyển sang category"
   ]
  },
  {
   "cell_type": "code",
   "execution_count": 23,
   "metadata": {},
   "outputs": [],
   "source": [
    "y_train_cat = to_categorical(y_train, 10)\n",
    "y_test_cat = to_categorical(y_test, 10)"
   ]
  },
  {
   "cell_type": "code",
   "execution_count": 24,
   "metadata": {},
   "outputs": [
    {
     "data": {
      "text/plain": [
       "(50000, 10)"
      ]
     },
     "execution_count": 24,
     "metadata": {},
     "output_type": "execute_result"
    }
   ],
   "source": [
    "y_train_cat.shape"
   ]
  },
  {
   "cell_type": "markdown",
   "metadata": {},
   "source": [
    "### Tạo model"
   ]
  },
  {
   "cell_type": "code",
   "execution_count": 25,
   "metadata": {},
   "outputs": [
    {
     "name": "stdout",
     "output_type": "stream",
     "text": [
      "Model: \"sequential\"\n",
      "_________________________________________________________________\n",
      "Layer (type)                 Output Shape              Param #   \n",
      "=================================================================\n",
      "conv2d (Conv2D)              (None, 32, 32, 64)        1792      \n",
      "_________________________________________________________________\n",
      "conv2d_1 (Conv2D)            (None, 30, 30, 64)        36928     \n",
      "_________________________________________________________________\n",
      "max_pooling2d (MaxPooling2D) (None, 15, 15, 64)        0         \n",
      "_________________________________________________________________\n",
      "conv2d_2 (Conv2D)            (None, 15, 15, 128)       73856     \n",
      "_________________________________________________________________\n",
      "conv2d_3 (Conv2D)            (None, 13, 13, 128)       147584    \n",
      "_________________________________________________________________\n",
      "max_pooling2d_1 (MaxPooling2 (None, 6, 6, 128)         0         \n",
      "_________________________________________________________________\n",
      "flatten (Flatten)            (None, 4608)              0         \n",
      "_________________________________________________________________\n",
      "dense (Dense)                (None, 10)                46090     \n",
      "=================================================================\n",
      "Total params: 306,250\n",
      "Trainable params: 306,250\n",
      "Non-trainable params: 0\n",
      "_________________________________________________________________\n"
     ]
    }
   ],
   "source": [
    "# Reset\n",
    "K.clear_session()\n",
    "# Tạo model\n",
    "model = Sequential()\n",
    "model.add(Conv2D(64, (3, 3),\n",
    "                 padding='same',\n",
    "                 input_shape=(32, 32, 3),\n",
    "                 activation='relu'))\n",
    "model.add(Conv2D(64, (3, 3), activation='relu'))\n",
    "model.add(MaxPool2D(pool_size=(2, 2)))\n",
    "\n",
    "model.add(Conv2D(128, (3, 3), padding='same', activation='relu'))\n",
    "model.add(Conv2D(128, (3, 3), activation='relu'))\n",
    "model.add(MaxPool2D(pool_size=(2, 2)))\n",
    "\n",
    "model.add(Flatten())\n",
    "# model.add(Dense(512, activation='relu'))\n",
    "model.add(Dense(10, activation='softmax'))\n",
    "model.summary()"
   ]
  },
  {
   "cell_type": "code",
   "execution_count": 26,
   "metadata": {},
   "outputs": [],
   "source": [
    "model.compile(loss='categorical_crossentropy',\n",
    "              optimizer='rmsprop',\n",
    "              metrics=['accuracy'])"
   ]
  },
  {
   "cell_type": "markdown",
   "metadata": {},
   "source": [
    "### Traing"
   ]
  },
  {
   "cell_type": "code",
   "execution_count": 27,
   "metadata": {
    "scrolled": true
   },
   "outputs": [
    {
     "name": "stdout",
     "output_type": "stream",
     "text": [
      "Epoch 1/20\n",
      "1250/1250 [==============================] - 89s 67ms/step - loss: 1.4689 - accuracy: 0.4761 - val_loss: 1.1373 - val_accuracy: 0.6023\n",
      "Epoch 2/20\n",
      "1250/1250 [==============================] - 82s 66ms/step - loss: 0.9584 - accuracy: 0.6700 - val_loss: 0.9142 - val_accuracy: 0.6789\n",
      "Epoch 3/20\n",
      "1250/1250 [==============================] - 82s 66ms/step - loss: 0.7818 - accuracy: 0.7310 - val_loss: 0.7857 - val_accuracy: 0.7357\n",
      "Epoch 4/20\n",
      "1250/1250 [==============================] - 83s 66ms/step - loss: 0.6645 - accuracy: 0.7718 - val_loss: 0.8325 - val_accuracy: 0.7271\n",
      "Epoch 5/20\n",
      "1250/1250 [==============================] - 83s 66ms/step - loss: 0.5731 - accuracy: 0.8064 - val_loss: 0.7820 - val_accuracy: 0.7432\n",
      "Epoch 6/20\n",
      "1250/1250 [==============================] - 83s 66ms/step - loss: 0.5018 - accuracy: 0.8313 - val_loss: 0.7249 - val_accuracy: 0.7702\n",
      "Epoch 7/20\n",
      "1250/1250 [==============================] - 83s 66ms/step - loss: 0.4328 - accuracy: 0.8545 - val_loss: 0.8144 - val_accuracy: 0.7636\n",
      "Epoch 8/20\n",
      "1250/1250 [==============================] - 83s 66ms/step - loss: 0.3734 - accuracy: 0.8748 - val_loss: 0.8982 - val_accuracy: 0.7426\n",
      "Epoch 9/20\n",
      "1250/1250 [==============================] - 83s 66ms/step - loss: 0.3252 - accuracy: 0.8912 - val_loss: 0.9489 - val_accuracy: 0.7611\n",
      "Epoch 10/20\n",
      "1250/1250 [==============================] - 83s 66ms/step - loss: 0.2889 - accuracy: 0.9030 - val_loss: 1.1074 - val_accuracy: 0.7491\n",
      "Epoch 11/20\n",
      "1250/1250 [==============================] - 83s 66ms/step - loss: 0.2503 - accuracy: 0.9169 - val_loss: 1.0750 - val_accuracy: 0.7607\n",
      "Epoch 12/20\n",
      "1250/1250 [==============================] - 83s 66ms/step - loss: 0.2279 - accuracy: 0.9252 - val_loss: 1.1820 - val_accuracy: 0.7608\n",
      "Epoch 13/20\n",
      "1250/1250 [==============================] - 83s 66ms/step - loss: 0.2091 - accuracy: 0.9317 - val_loss: 1.3384 - val_accuracy: 0.7615\n",
      "Epoch 14/20\n",
      "1250/1250 [==============================] - 83s 66ms/step - loss: 0.1986 - accuracy: 0.9370 - val_loss: 1.3572 - val_accuracy: 0.7621\n",
      "Epoch 15/20\n",
      "1250/1250 [==============================] - 84s 67ms/step - loss: 0.1863 - accuracy: 0.9407 - val_loss: 1.5575 - val_accuracy: 0.7578\n",
      "Epoch 16/20\n",
      "1250/1250 [==============================] - 83s 66ms/step - loss: 0.1784 - accuracy: 0.9452 - val_loss: 1.7606 - val_accuracy: 0.7576\n",
      "Epoch 17/20\n",
      "1250/1250 [==============================] - 83s 66ms/step - loss: 0.1751 - accuracy: 0.9471 - val_loss: 1.9305 - val_accuracy: 0.7502\n",
      "Epoch 18/20\n",
      "1250/1250 [==============================] - 83s 66ms/step - loss: 0.1721 - accuracy: 0.9505 - val_loss: 2.0600 - val_accuracy: 0.7458\n",
      "Epoch 19/20\n",
      "1250/1250 [==============================] - 83s 66ms/step - loss: 0.1765 - accuracy: 0.9520 - val_loss: 2.0702 - val_accuracy: 0.7470\n",
      "Epoch 20/20\n",
      "1250/1250 [==============================] - 83s 66ms/step - loss: 0.1714 - accuracy: 0.9539 - val_loss: 2.2562 - val_accuracy: 0.7458\n"
     ]
    },
    {
     "data": {
      "text/plain": [
       "<keras.callbacks.History at 0x1f2f9b28850>"
      ]
     },
     "execution_count": 27,
     "metadata": {},
     "output_type": "execute_result"
    }
   ],
   "source": [
    "model.fit(X_train, y_train_cat,\n",
    "          batch_size=32,\n",
    "          epochs=20,\n",
    "          validation_split=0.2,\n",
    "          shuffle=True,\n",
    "          )"
   ]
  },
  {
   "cell_type": "markdown",
   "metadata": {},
   "source": [
    "### Đánh giá"
   ]
  },
  {
   "cell_type": "code",
   "execution_count": 32,
   "metadata": {},
   "outputs": [
    {
     "name": "stdout",
     "output_type": "stream",
     "text": [
      "313/313 [==============================] - 7s 21ms/step - loss: 2.3176 - accuracy: 0.7425\n"
     ]
    },
    {
     "data": {
      "text/plain": [
       "[2.317587375640869, 0.7425000071525574]"
      ]
     },
     "execution_count": 32,
     "metadata": {},
     "output_type": "execute_result"
    }
   ],
   "source": [
    "model.evaluate(X_test, y_test_cat)"
   ]
  },
  {
   "cell_type": "code",
   "execution_count": 33,
   "metadata": {},
   "outputs": [],
   "source": [
    "y_pred = model.predict(X_test)"
   ]
  },
  {
   "cell_type": "code",
   "execution_count": 34,
   "metadata": {},
   "outputs": [],
   "source": [
    "y_pred_class = np.argmax(y_pred, axis=1)"
   ]
  },
  {
   "cell_type": "code",
   "execution_count": 31,
   "metadata": {},
   "outputs": [
    {
     "name": "stdout",
     "output_type": "stream",
     "text": [
      "              precision    recall  f1-score   support\n",
      "\n",
      "           0       0.72      0.80      0.76      1000\n",
      "           1       0.89      0.84      0.86      1000\n",
      "           2       0.58      0.72      0.64      1000\n",
      "           3       0.57      0.59      0.58      1000\n",
      "           4       0.71      0.64      0.68      1000\n",
      "           5       0.68      0.61      0.64      1000\n",
      "           6       0.85      0.72      0.78      1000\n",
      "           7       0.83      0.76      0.79      1000\n",
      "           8       0.82      0.88      0.85      1000\n",
      "           9       0.83      0.86      0.85      1000\n",
      "\n",
      "    accuracy                           0.74     10000\n",
      "   macro avg       0.75      0.74      0.74     10000\n",
      "weighted avg       0.75      0.74      0.74     10000\n",
      "\n"
     ]
    }
   ],
   "source": [
    "from sklearn.metrics import classification_report\n",
    "print(classification_report(y_test, y_pred_class))"
   ]
  },
  {
   "cell_type": "code",
   "execution_count": null,
   "metadata": {},
   "outputs": [],
   "source": []
  }
 ],
 "metadata": {
  "kernelspec": {
   "display_name": "Python 3",
   "language": "python",
   "name": "python3"
  },
  "language_info": {
   "codemirror_mode": {
    "name": "ipython",
    "version": 3
   },
   "file_extension": ".py",
   "mimetype": "text/x-python",
   "name": "python",
   "nbconvert_exporter": "python",
   "pygments_lexer": "ipython3",
   "version": "3.8.8"
  },
  "varInspector": {
   "cols": {
    "lenName": 16,
    "lenType": 16,
    "lenVar": 40
   },
   "kernels_config": {
    "python": {
     "delete_cmd_postfix": "",
     "delete_cmd_prefix": "del ",
     "library": "var_list.py",
     "varRefreshCmd": "print(var_dic_list())"
    },
    "r": {
     "delete_cmd_postfix": ") ",
     "delete_cmd_prefix": "rm(",
     "library": "var_list.r",
     "varRefreshCmd": "cat(var_dic_list()) "
    }
   },
   "types_to_exclude": [
    "module",
    "function",
    "builtin_function_or_method",
    "instance",
    "_Feature"
   ],
   "window_display": false
  }
 },
 "nbformat": 4,
 "nbformat_minor": 2
}
