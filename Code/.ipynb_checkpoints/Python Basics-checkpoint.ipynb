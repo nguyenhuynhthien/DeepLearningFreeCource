{
 "cells": [
  {
   "cell_type": "markdown",
   "id": "b58a04dc",
   "metadata": {},
   "source": [
    "# Lệnh print()"
   ]
  },
  {
   "cell_type": "code",
   "execution_count": 1,
   "id": "85df463a",
   "metadata": {},
   "outputs": [
    {
     "name": "stdout",
     "output_type": "stream",
     "text": [
      "Hello\n"
     ]
    }
   ],
   "source": [
    "print(\"Hello\")"
   ]
  },
  {
   "cell_type": "markdown",
   "id": "732d695d",
   "metadata": {},
   "source": [
    "# Markdown\n",
    "## Markdown\n",
    "Chú thích"
   ]
  },
  {
   "cell_type": "markdown",
   "id": "1a4d7c77",
   "metadata": {},
   "source": [
    "# Kiểu dữ liệu"
   ]
  },
  {
   "cell_type": "markdown",
   "id": "7716bb59",
   "metadata": {},
   "source": [
    "## Số nguyên"
   ]
  },
  {
   "cell_type": "code",
   "execution_count": 3,
   "id": "f44ecde3",
   "metadata": {},
   "outputs": [],
   "source": [
    "a = 1"
   ]
  },
  {
   "cell_type": "code",
   "execution_count": 62,
   "id": "9f6a1e38",
   "metadata": {},
   "outputs": [
    {
     "name": "stdout",
     "output_type": "stream",
     "text": [
      "1\n"
     ]
    }
   ],
   "source": [
    "print(a)"
   ]
  },
  {
   "cell_type": "code",
   "execution_count": 5,
   "id": "c5aedce7",
   "metadata": {},
   "outputs": [
    {
     "data": {
      "text/plain": [
       "int"
      ]
     },
     "execution_count": 5,
     "metadata": {},
     "output_type": "execute_result"
    }
   ],
   "source": [
    "type(a)"
   ]
  },
  {
   "cell_type": "markdown",
   "id": "769e7a43",
   "metadata": {},
   "source": [
    "## Số thực"
   ]
  },
  {
   "cell_type": "code",
   "execution_count": 8,
   "id": "63e08481",
   "metadata": {},
   "outputs": [
    {
     "data": {
      "text/plain": [
       "2.3"
      ]
     },
     "execution_count": 8,
     "metadata": {},
     "output_type": "execute_result"
    }
   ],
   "source": [
    "b = 2.3\n",
    "b"
   ]
  },
  {
   "cell_type": "code",
   "execution_count": 7,
   "id": "f91d1890",
   "metadata": {},
   "outputs": [
    {
     "data": {
      "text/plain": [
       "float"
      ]
     },
     "execution_count": 7,
     "metadata": {},
     "output_type": "execute_result"
    }
   ],
   "source": [
    "type(b)"
   ]
  },
  {
   "cell_type": "markdown",
   "id": "d0b82be4",
   "metadata": {},
   "source": [
    "## Chuỗi (xâu) ký tự"
   ]
  },
  {
   "cell_type": "code",
   "execution_count": 40,
   "id": "5b7c34be",
   "metadata": {},
   "outputs": [
    {
     "data": {
      "text/plain": [
       "'Keras'"
      ]
     },
     "execution_count": 40,
     "metadata": {},
     "output_type": "execute_result"
    }
   ],
   "source": [
    "myStr = 'Keras'\n",
    "myStr"
   ]
  },
  {
   "cell_type": "code",
   "execution_count": 41,
   "id": "5d895d24",
   "metadata": {},
   "outputs": [
    {
     "data": {
      "text/plain": [
       "str"
      ]
     },
     "execution_count": 41,
     "metadata": {},
     "output_type": "execute_result"
    }
   ],
   "source": [
    "type(myStr)"
   ]
  },
  {
   "cell_type": "code",
   "execution_count": 9,
   "id": "d7b1b8b8",
   "metadata": {},
   "outputs": [
    {
     "name": "stdout",
     "output_type": "stream",
     "text": [
      "1\n"
     ]
    }
   ],
   "source": []
  },
  {
   "cell_type": "markdown",
   "id": "26cb432b",
   "metadata": {},
   "source": [
    "# Phép toán số học"
   ]
  },
  {
   "cell_type": "markdown",
   "id": "0b370bab",
   "metadata": {},
   "source": [
    "## Cộng"
   ]
  },
  {
   "cell_type": "code",
   "execution_count": 23,
   "id": "6195bb58",
   "metadata": {},
   "outputs": [
    {
     "name": "stdout",
     "output_type": "stream",
     "text": [
      "Sum a and b = 3.3\n"
     ]
    }
   ],
   "source": [
    "sum_ab = a + b\n",
    "print('Sum a and b = ' + str(sum_ab))"
   ]
  },
  {
   "cell_type": "markdown",
   "id": "1f7b4cbe",
   "metadata": {},
   "source": [
    "## Trừ"
   ]
  },
  {
   "cell_type": "code",
   "execution_count": 11,
   "id": "15de052f",
   "metadata": {},
   "outputs": [
    {
     "data": {
      "text/plain": [
       "-1.2999999999999998"
      ]
     },
     "execution_count": 11,
     "metadata": {},
     "output_type": "execute_result"
    }
   ],
   "source": [
    "a - b"
   ]
  },
  {
   "cell_type": "markdown",
   "id": "323ae5bf",
   "metadata": {},
   "source": [
    "## Nhân"
   ]
  },
  {
   "cell_type": "code",
   "execution_count": 12,
   "id": "7f551562",
   "metadata": {},
   "outputs": [
    {
     "data": {
      "text/plain": [
       "2.3"
      ]
     },
     "execution_count": 12,
     "metadata": {},
     "output_type": "execute_result"
    }
   ],
   "source": [
    "a * b"
   ]
  },
  {
   "cell_type": "markdown",
   "id": "4a0a7dbd",
   "metadata": {},
   "source": [
    "## Chia"
   ]
  },
  {
   "cell_type": "code",
   "execution_count": 63,
   "id": "c7b7dc3f",
   "metadata": {},
   "outputs": [
    {
     "data": {
      "text/plain": [
       "0.4347826086956522"
      ]
     },
     "execution_count": 63,
     "metadata": {},
     "output_type": "execute_result"
    }
   ],
   "source": [
    "a / b"
   ]
  },
  {
   "cell_type": "markdown",
   "id": "36ccd4fe",
   "metadata": {},
   "source": [
    "## Luỹ thừa"
   ]
  },
  {
   "cell_type": "code",
   "execution_count": 64,
   "id": "123e8d04",
   "metadata": {
    "scrolled": true
   },
   "outputs": [
    {
     "data": {
      "text/plain": [
       "5.289999999999999"
      ]
     },
     "execution_count": 64,
     "metadata": {},
     "output_type": "execute_result"
    }
   ],
   "source": [
    "b ** 2"
   ]
  },
  {
   "cell_type": "markdown",
   "id": "391ab8f5",
   "metadata": {},
   "source": [
    "## List"
   ]
  },
  {
   "cell_type": "code",
   "execution_count": 78,
   "id": "c41a899b",
   "metadata": {
    "scrolled": false
   },
   "outputs": [
    {
     "data": {
      "text/plain": [
       "[1, 2, 3, 4, 5, 6, 7]"
      ]
     },
     "execution_count": 78,
     "metadata": {},
     "output_type": "execute_result"
    }
   ],
   "source": [
    "c = [1, 2, 3, 4, 5, 6, 7]\n",
    "c"
   ]
  },
  {
   "cell_type": "code",
   "execution_count": 79,
   "id": "fcea7403",
   "metadata": {},
   "outputs": [
    {
     "data": {
      "text/plain": [
       "list"
      ]
     },
     "execution_count": 79,
     "metadata": {},
     "output_type": "execute_result"
    }
   ],
   "source": [
    "type(c)"
   ]
  },
  {
   "cell_type": "code",
   "execution_count": 80,
   "id": "dcc7201a",
   "metadata": {},
   "outputs": [
    {
     "data": {
      "text/plain": [
       "[1, 2, 3, 4, 5, 6, 7, 1, 2, 3, 4, 5, 6, 7]"
      ]
     },
     "execution_count": 80,
     "metadata": {},
     "output_type": "execute_result"
    }
   ],
   "source": [
    "c * 2"
   ]
  },
  {
   "cell_type": "code",
   "execution_count": 83,
   "id": "49bfbd18",
   "metadata": {},
   "outputs": [
    {
     "data": {
      "text/plain": [
       "[10, 10, 10, 10, 10]"
      ]
     },
     "execution_count": 83,
     "metadata": {},
     "output_type": "execute_result"
    }
   ],
   "source": [
    "[10] * 5"
   ]
  },
  {
   "cell_type": "markdown",
   "id": "c8d22304",
   "metadata": {},
   "source": [
    "## List của list"
   ]
  },
  {
   "cell_type": "code",
   "execution_count": 19,
   "id": "b7c57b37",
   "metadata": {},
   "outputs": [
    {
     "data": {
      "text/plain": [
       "[[1, 2, 3], [4, 5, 6]]"
      ]
     },
     "execution_count": 19,
     "metadata": {},
     "output_type": "execute_result"
    }
   ],
   "source": [
    "d = [[1, 2, 3], [4, 5, 6]]\n",
    "d"
   ]
  },
  {
   "cell_type": "code",
   "execution_count": 35,
   "id": "67c7920c",
   "metadata": {},
   "outputs": [
    {
     "data": {
      "text/plain": [
       "9"
      ]
     },
     "execution_count": 35,
     "metadata": {},
     "output_type": "execute_result"
    }
   ],
   "source": [
    "len(c)"
   ]
  },
  {
   "cell_type": "code",
   "execution_count": 36,
   "id": "a59a3a64",
   "metadata": {
    "scrolled": true
   },
   "outputs": [
    {
     "data": {
      "text/plain": [
       "2"
      ]
     },
     "execution_count": 36,
     "metadata": {},
     "output_type": "execute_result"
    }
   ],
   "source": [
    "len(d)"
   ]
  },
  {
   "cell_type": "markdown",
   "id": "976c420e",
   "metadata": {},
   "source": [
    "## Truy cập đến phần tử của list"
   ]
  },
  {
   "cell_type": "code",
   "execution_count": 20,
   "id": "5b32819d",
   "metadata": {},
   "outputs": [
    {
     "data": {
      "text/plain": [
       "1"
      ]
     },
     "execution_count": 20,
     "metadata": {},
     "output_type": "execute_result"
    }
   ],
   "source": [
    "c[0]"
   ]
  },
  {
   "cell_type": "code",
   "execution_count": 24,
   "id": "ac8cfa4d",
   "metadata": {},
   "outputs": [
    {
     "name": "stdout",
     "output_type": "stream",
     "text": [
      "1 2\n"
     ]
    }
   ],
   "source": [
    "print(str(c[0]) + ' ' + str(c[1]))"
   ]
  },
  {
   "cell_type": "markdown",
   "id": "58b911ca",
   "metadata": {},
   "source": [
    "## Lấy một đoạn của list ra"
   ]
  },
  {
   "cell_type": "code",
   "execution_count": 25,
   "id": "54dafa78",
   "metadata": {},
   "outputs": [
    {
     "data": {
      "text/plain": [
       "[2, 3]"
      ]
     },
     "execution_count": 25,
     "metadata": {},
     "output_type": "execute_result"
    }
   ],
   "source": [
    "c[1:3]"
   ]
  },
  {
   "cell_type": "code",
   "execution_count": 27,
   "id": "6265338f",
   "metadata": {},
   "outputs": [
    {
     "data": {
      "text/plain": [
       "[3, 4, 5, 6, 7]"
      ]
     },
     "execution_count": 27,
     "metadata": {},
     "output_type": "execute_result"
    }
   ],
   "source": [
    "c[2:]"
   ]
  },
  {
   "cell_type": "code",
   "execution_count": 28,
   "id": "1dd9d895",
   "metadata": {},
   "outputs": [
    {
     "data": {
      "text/plain": [
       "[1, 2, 3, 4]"
      ]
     },
     "execution_count": 28,
     "metadata": {},
     "output_type": "execute_result"
    }
   ],
   "source": [
    "c[:4]"
   ]
  },
  {
   "cell_type": "markdown",
   "id": "c5f5b34d",
   "metadata": {},
   "source": [
    "## Thêm phần tử vào cuối list"
   ]
  },
  {
   "cell_type": "code",
   "execution_count": 31,
   "id": "28c8a142",
   "metadata": {},
   "outputs": [
    {
     "data": {
      "text/plain": [
       "[1, 2, 3, 4, 5, 6, 7, 10, 10]"
      ]
     },
     "execution_count": 31,
     "metadata": {},
     "output_type": "execute_result"
    }
   ],
   "source": [
    "c.append(10)\n",
    "c"
   ]
  },
  {
   "cell_type": "markdown",
   "id": "be6daf28",
   "metadata": {},
   "source": [
    "## Đọc thêm:\n",
    "insert, remove, pop, clear, copy, count...\n",
    "https://www.programiz.com/python-programming/methods/list/insert"
   ]
  },
  {
   "cell_type": "markdown",
   "id": "0201707d",
   "metadata": {},
   "source": [
    "# Logic"
   ]
  },
  {
   "cell_type": "code",
   "execution_count": 32,
   "id": "bbcc2a5e",
   "metadata": {},
   "outputs": [
    {
     "data": {
      "text/plain": [
       "False"
      ]
     },
     "execution_count": 32,
     "metadata": {},
     "output_type": "execute_result"
    }
   ],
   "source": [
    "a > b"
   ]
  },
  {
   "cell_type": "code",
   "execution_count": 65,
   "id": "a1c2f074",
   "metadata": {},
   "outputs": [
    {
     "data": {
      "text/plain": [
       "True"
      ]
     },
     "execution_count": 65,
     "metadata": {},
     "output_type": "execute_result"
    }
   ],
   "source": [
    "a < b"
   ]
  },
  {
   "cell_type": "code",
   "execution_count": 66,
   "id": "89ffd837",
   "metadata": {},
   "outputs": [
    {
     "data": {
      "text/plain": [
       "True"
      ]
     },
     "execution_count": 66,
     "metadata": {},
     "output_type": "execute_result"
    }
   ],
   "source": [
    "a == 1"
   ]
  },
  {
   "cell_type": "code",
   "execution_count": 67,
   "id": "9b0d5fd0",
   "metadata": {},
   "outputs": [
    {
     "data": {
      "text/plain": [
       "False"
      ]
     },
     "execution_count": 67,
     "metadata": {},
     "output_type": "execute_result"
    }
   ],
   "source": [
    "a != 1"
   ]
  },
  {
   "cell_type": "markdown",
   "id": "50c4cf55",
   "metadata": {},
   "source": [
    "## Tuple\n",
    "Một bộ giá trị không đổi"
   ]
  },
  {
   "cell_type": "code",
   "execution_count": 34,
   "id": "d80ed542",
   "metadata": {},
   "outputs": [
    {
     "data": {
      "text/plain": [
       "(7, 8, 9)"
      ]
     },
     "execution_count": 34,
     "metadata": {},
     "output_type": "execute_result"
    }
   ],
   "source": [
    "e = (7, 8, 9)\n",
    "e"
   ]
  },
  {
   "cell_type": "code",
   "execution_count": 43,
   "id": "fcb9a6cc",
   "metadata": {},
   "outputs": [
    {
     "data": {
      "text/plain": [
       "tuple"
      ]
     },
     "execution_count": 43,
     "metadata": {},
     "output_type": "execute_result"
    }
   ],
   "source": [
    "type(e)"
   ]
  },
  {
   "cell_type": "markdown",
   "id": "a248886f",
   "metadata": {},
   "source": [
    "## Dictionary\n",
    "Một bộ các cặp giá trị-key"
   ]
  },
  {
   "cell_type": "code",
   "execution_count": 38,
   "id": "9d245c55",
   "metadata": {},
   "outputs": [
    {
     "data": {
      "text/plain": [
       "{'one': 1, 'two': 2, 'three': 3}"
      ]
     },
     "execution_count": 38,
     "metadata": {},
     "output_type": "execute_result"
    }
   ],
   "source": [
    "f = {'one' : 1, 'two' : 2, 'three' : 3}\n",
    "f"
   ]
  },
  {
   "cell_type": "code",
   "execution_count": 69,
   "id": "4f149831",
   "metadata": {},
   "outputs": [
    {
     "data": {
      "text/plain": [
       "1"
      ]
     },
     "execution_count": 69,
     "metadata": {},
     "output_type": "execute_result"
    }
   ],
   "source": [
    "f['one']"
   ]
  },
  {
   "cell_type": "code",
   "execution_count": 70,
   "id": "56a1fbaf",
   "metadata": {},
   "outputs": [
    {
     "data": {
      "text/plain": [
       "3"
      ]
     },
     "execution_count": 70,
     "metadata": {},
     "output_type": "execute_result"
    }
   ],
   "source": [
    "len(f)"
   ]
  },
  {
   "cell_type": "code",
   "execution_count": 42,
   "id": "74751787",
   "metadata": {},
   "outputs": [
    {
     "data": {
      "text/plain": [
       "dict"
      ]
     },
     "execution_count": 42,
     "metadata": {},
     "output_type": "execute_result"
    }
   ],
   "source": [
    "type(f)"
   ]
  },
  {
   "cell_type": "markdown",
   "id": "3b89f1b0",
   "metadata": {},
   "source": [
    "# Hàm"
   ]
  },
  {
   "cell_type": "code",
   "execution_count": 47,
   "id": "153a967e",
   "metadata": {},
   "outputs": [],
   "source": [
    "def myFunct(x) :\n",
    "    y = x**2 + 5\n",
    "    return y"
   ]
  },
  {
   "cell_type": "code",
   "execution_count": 48,
   "id": "77460e2d",
   "metadata": {},
   "outputs": [
    {
     "data": {
      "text/plain": [
       "105"
      ]
     },
     "execution_count": 48,
     "metadata": {},
     "output_type": "execute_result"
    }
   ],
   "source": [
    "myFunct(10)"
   ]
  },
  {
   "cell_type": "markdown",
   "id": "a5be3f9a",
   "metadata": {},
   "source": [
    "# Lệnh if"
   ]
  },
  {
   "cell_type": "code",
   "execution_count": 74,
   "id": "f951ddb0",
   "metadata": {},
   "outputs": [],
   "source": [
    "if a > b :\n",
    "    print('a is larger than b')"
   ]
  },
  {
   "cell_type": "code",
   "execution_count": 75,
   "id": "fc80d101",
   "metadata": {},
   "outputs": [
    {
     "name": "stdout",
     "output_type": "stream",
     "text": [
      "a is less than or equal b\n"
     ]
    }
   ],
   "source": [
    "if a > b :\n",
    "    print('a is larger than b')\n",
    "else :\n",
    "    print('a is less than or equal b')\n",
    "        "
   ]
  },
  {
   "cell_type": "code",
   "execution_count": 76,
   "id": "f20b9984",
   "metadata": {},
   "outputs": [
    {
     "name": "stdout",
     "output_type": "stream",
     "text": [
      "a is less than b\n"
     ]
    }
   ],
   "source": [
    "if a > b:\n",
    "    print('a is larger than b')\n",
    "elif a < b:\n",
    "    print('a is less than b')\n",
    "else: \n",
    "    print('a equal b')"
   ]
  },
  {
   "cell_type": "markdown",
   "id": "0179e607",
   "metadata": {},
   "source": [
    "# Lệnh lặp for in"
   ]
  },
  {
   "cell_type": "code",
   "execution_count": 55,
   "id": "e7b1b47e",
   "metadata": {
    "scrolled": true
   },
   "outputs": [
    {
     "name": "stdout",
     "output_type": "stream",
     "text": [
      "1\n",
      "2\n",
      "3\n",
      "4\n",
      "5\n",
      "6\n",
      "7\n",
      "10\n",
      "10\n"
     ]
    }
   ],
   "source": [
    "for x in c:\n",
    "    print(str(x))"
   ]
  },
  {
   "cell_type": "markdown",
   "id": "7b640a86",
   "metadata": {},
   "source": [
    "# Lệnh lặp while"
   ]
  },
  {
   "cell_type": "code",
   "execution_count": 61,
   "id": "a005d04d",
   "metadata": {},
   "outputs": [
    {
     "name": "stdout",
     "output_type": "stream",
     "text": [
      "0\n",
      "1\n",
      "4\n",
      "9\n",
      "16\n"
     ]
    }
   ],
   "source": [
    "i = 0\n",
    "while(i < 5):\n",
    "    print (str(i**2))\n",
    "    i = i + 1"
   ]
  },
  {
   "cell_type": "markdown",
   "id": "266c3f6c",
   "metadata": {},
   "source": [
    "# End"
   ]
  },
  {
   "cell_type": "code",
   "execution_count": null,
   "id": "6b37ab1e",
   "metadata": {},
   "outputs": [],
   "source": []
  }
 ],
 "metadata": {
  "kernelspec": {
   "display_name": "Python 3",
   "language": "python",
   "name": "python3"
  },
  "language_info": {
   "codemirror_mode": {
    "name": "ipython",
    "version": 3
   },
   "file_extension": ".py",
   "mimetype": "text/x-python",
   "name": "python",
   "nbconvert_exporter": "python",
   "pygments_lexer": "ipython3",
   "version": "3.8.8"
  },
  "varInspector": {
   "cols": {
    "lenName": 16,
    "lenType": 16,
    "lenVar": 40
   },
   "kernels_config": {
    "python": {
     "delete_cmd_postfix": "",
     "delete_cmd_prefix": "del ",
     "library": "var_list.py",
     "varRefreshCmd": "print(var_dic_list())"
    },
    "r": {
     "delete_cmd_postfix": ") ",
     "delete_cmd_prefix": "rm(",
     "library": "var_list.r",
     "varRefreshCmd": "cat(var_dic_list()) "
    }
   },
   "types_to_exclude": [
    "module",
    "function",
    "builtin_function_or_method",
    "instance",
    "_Feature"
   ],
   "window_display": false
  }
 },
 "nbformat": 4,
 "nbformat_minor": 5
}
