{
 "cells": [
  {
   "cell_type": "markdown",
   "id": "ee3d1d70",
   "metadata": {
    "papermill": {
     "duration": 0.019404,
     "end_time": "2021-07-12T12:43:44.276013",
     "exception": false,
     "start_time": "2021-07-12T12:43:44.256609",
     "status": "completed"
    },
    "tags": []
   },
   "source": [
    "# Nhận diện chó mèo\n",
    "Có tham khảo code ở https://www.kaggle.com/ayushish12/cnn-dogs-vs-cats/notebook"
   ]
  },
  {
   "cell_type": "code",
   "execution_count": 112,
   "id": "954eff10",
   "metadata": {
    "execution": {
     "iopub.execute_input": "2021-07-12T12:43:44.317973Z",
     "iopub.status.busy": "2021-07-12T12:43:44.316829Z",
     "iopub.status.idle": "2021-07-12T12:43:50.728363Z",
     "shell.execute_reply": "2021-07-12T12:43:50.727436Z",
     "shell.execute_reply.started": "2021-07-12T10:56:48.707656Z"
    },
    "papermill": {
     "duration": 6.433587,
     "end_time": "2021-07-12T12:43:50.728560",
     "exception": false,
     "start_time": "2021-07-12T12:43:44.294973",
     "status": "completed"
    },
    "tags": []
   },
   "outputs": [],
   "source": [
    "import tensorflow as tf\n",
    "import numpy as np\n",
    "import matplotlib.pyplot as plt\n",
    "from keras.preprocessing.image import ImageDataGenerator\n",
    "from tensorflow.keras.models import Sequential\n",
    "from tensorflow.keras.layers import Dense, Conv2D, MaxPool2D, Flatten\n",
    "import tensorflow.keras.backend as K\n",
    "from tensorflow.keras.callbacks import EarlyStopping\n",
    "from tensorflow.keras.utils import to_categorical"
   ]
  },
  {
   "cell_type": "markdown",
   "id": "a9d4fb03",
   "metadata": {
    "papermill": {
     "duration": 0.017979,
     "end_time": "2021-07-12T12:43:50.765099",
     "exception": false,
     "start_time": "2021-07-12T12:43:50.747120",
     "status": "completed"
    },
    "tags": []
   },
   "source": [
    "## Tiền xử lý dữ liệu"
   ]
  },
  {
   "cell_type": "code",
   "execution_count": 44,
   "id": "8123bbb8",
   "metadata": {
    "execution": {
     "iopub.execute_input": "2021-07-12T12:43:50.809790Z",
     "iopub.status.busy": "2021-07-12T12:43:50.808921Z",
     "iopub.status.idle": "2021-07-12T12:43:53.875560Z",
     "shell.execute_reply": "2021-07-12T12:43:53.876184Z",
     "shell.execute_reply.started": "2021-07-12T12:00:35.391432Z"
    },
    "papermill": {
     "duration": 3.092817,
     "end_time": "2021-07-12T12:43:53.876419",
     "exception": false,
     "start_time": "2021-07-12T12:43:50.783602",
     "status": "completed"
    },
    "tags": []
   },
   "outputs": [
    {
     "name": "stdout",
     "output_type": "stream",
     "text": [
      "Found 8005 images belonging to 2 classes.\n"
     ]
    }
   ],
   "source": [
    "# Load ảnh, chia loại, định lại cỡ ảnh, rescale ảnh\n",
    "train_datagen = ImageDataGenerator(rescale = 1./255,\n",
    "                                   shear_range = 0.2,\n",
    "                                   zoom_range = 0.2,\n",
    "                                   horizontal_flip = True)\n",
    "training_set = train_datagen.flow_from_directory('../Data/Cat and Dog/training_set', \n",
    "                                                 target_size = (64, 64), \n",
    "                                                 batch_size = 32, \n",
    "                                                 class_mode = 'binary')"
   ]
  },
  {
   "cell_type": "code",
   "execution_count": 70,
   "id": "ac16a332",
   "metadata": {
    "execution": {
     "iopub.execute_input": "2021-07-12T12:43:53.923012Z",
     "iopub.status.busy": "2021-07-12T12:43:53.922216Z",
     "iopub.status.idle": "2021-07-12T12:43:54.135252Z",
     "shell.execute_reply": "2021-07-12T12:43:54.135909Z",
     "shell.execute_reply.started": "2021-07-12T12:01:13.584378Z"
    },
    "papermill": {
     "duration": 0.239024,
     "end_time": "2021-07-12T12:43:54.136117",
     "exception": false,
     "start_time": "2021-07-12T12:43:53.897093",
     "status": "completed"
    },
    "tags": []
   },
   "outputs": [
    {
     "name": "stdout",
     "output_type": "stream",
     "text": [
      "Found 2023 images belonging to 2 classes.\n"
     ]
    }
   ],
   "source": [
    "# Load ảnh, chia loại, định lại cỡ ảnh, rescale ảnh\n",
    "test_datagen = ImageDataGenerator(rescale = 1./255)\n",
    "test_set = test_datagen.flow_from_directory('../Data/Cat and Dog/test_set', \n",
    "                                            target_size = (64, 64), \n",
    "                                            batch_size = 32, \n",
    "                                            class_mode = 'binary',\n",
    "                                            shuffle = False,)"
   ]
  },
  {
   "cell_type": "code",
   "execution_count": 46,
   "id": "409bb392",
   "metadata": {},
   "outputs": [
    {
     "data": {
      "text/plain": [
       "{'cats': 0, 'dogs': 1}"
      ]
     },
     "execution_count": 46,
     "metadata": {},
     "output_type": "execute_result"
    }
   ],
   "source": [
    "training_set.class_indices"
   ]
  },
  {
   "cell_type": "markdown",
   "id": "7e0659ab",
   "metadata": {
    "papermill": {
     "duration": 0.018818,
     "end_time": "2021-07-12T12:43:54.174321",
     "exception": false,
     "start_time": "2021-07-12T12:43:54.155503",
     "status": "completed"
    },
    "tags": []
   },
   "source": [
    "## Tạo model CNN"
   ]
  },
  {
   "cell_type": "code",
   "execution_count": 47,
   "id": "591ebaad",
   "metadata": {
    "execution": {
     "iopub.execute_input": "2021-07-12T12:43:54.218722Z",
     "iopub.status.busy": "2021-07-12T12:43:54.217933Z",
     "iopub.status.idle": "2021-07-12T12:43:54.259516Z",
     "shell.execute_reply": "2021-07-12T12:43:54.260092Z",
     "shell.execute_reply.started": "2021-07-12T12:01:39.781985Z"
    },
    "papermill": {
     "duration": 0.066663,
     "end_time": "2021-07-12T12:43:54.260317",
     "exception": false,
     "start_time": "2021-07-12T12:43:54.193654",
     "status": "completed"
    },
    "tags": []
   },
   "outputs": [],
   "source": [
    "# Tạo model\n",
    "model = Sequential()"
   ]
  },
  {
   "cell_type": "code",
   "execution_count": 48,
   "id": "a2a2f5e4",
   "metadata": {
    "execution": {
     "iopub.execute_input": "2021-07-12T12:43:54.576293Z",
     "iopub.status.busy": "2021-07-12T12:43:54.573612Z",
     "iopub.status.idle": "2021-07-12T12:43:54.581690Z",
     "shell.execute_reply": "2021-07-12T12:43:54.582143Z",
     "shell.execute_reply.started": "2021-07-12T12:03:34.462663Z"
    },
    "papermill": {
     "duration": 0.035018,
     "end_time": "2021-07-12T12:43:54.582374",
     "exception": false,
     "start_time": "2021-07-12T12:43:54.547356",
     "status": "completed"
    },
    "tags": []
   },
   "outputs": [
    {
     "name": "stdout",
     "output_type": "stream",
     "text": [
      "Model: \"sequential_5\"\n",
      "_________________________________________________________________\n",
      "Layer (type)                 Output Shape              Param #   \n",
      "=================================================================\n",
      "conv2d_12 (Conv2D)           (None, 64, 64, 32)        896       \n",
      "_________________________________________________________________\n",
      "max_pooling2d_10 (MaxPooling (None, 32, 32, 32)        0         \n",
      "_________________________________________________________________\n",
      "conv2d_13 (Conv2D)           (None, 30, 30, 32)        9248      \n",
      "_________________________________________________________________\n",
      "max_pooling2d_11 (MaxPooling (None, 15, 15, 32)        0         \n",
      "_________________________________________________________________\n",
      "flatten_5 (Flatten)          (None, 7200)              0         \n",
      "_________________________________________________________________\n",
      "dense_10 (Dense)             (None, 128)               921728    \n",
      "_________________________________________________________________\n",
      "dense_11 (Dense)             (None, 1)                 129       \n",
      "=================================================================\n",
      "Total params: 932,001\n",
      "Trainable params: 932,001\n",
      "Non-trainable params: 0\n",
      "_________________________________________________________________\n"
     ]
    }
   ],
   "source": [
    "# Thêm các layer\n",
    "model.add(Conv2D(32, kernel_size = 3, \n",
    "                 activation='relu', \n",
    "                 input_shape=(64, 64, 3), \n",
    "                 padding='same'))\n",
    "model.add(MaxPool2D(pool_size=2, strides = 2))\n",
    "model.add(Conv2D(32, kernel_size = 3, activation = 'relu'))\n",
    "model.add(MaxPool2D(pool_size=2, strides = 2))\n",
    "model.add(Flatten())\n",
    "model.add(Dense(128, activation='relu'))\n",
    "model.add(Dense(1, activation='sigmoid'))\n",
    "model.summary()"
   ]
  },
  {
   "cell_type": "markdown",
   "id": "0e11c11c",
   "metadata": {
    "papermill": {
     "duration": 0.018609,
     "end_time": "2021-07-12T12:43:54.746884",
     "exception": false,
     "start_time": "2021-07-12T12:43:54.728275",
     "status": "completed"
    },
    "tags": []
   },
   "source": [
    "**Training**"
   ]
  },
  {
   "cell_type": "code",
   "execution_count": 49,
   "id": "768b41b1",
   "metadata": {
    "execution": {
     "iopub.execute_input": "2021-07-12T12:43:54.789475Z",
     "iopub.status.busy": "2021-07-12T12:43:54.788451Z",
     "iopub.status.idle": "2021-07-12T12:43:54.805964Z",
     "shell.execute_reply": "2021-07-12T12:43:54.806482Z",
     "shell.execute_reply.started": "2021-07-12T12:04:37.566119Z"
    },
    "papermill": {
     "duration": 0.040658,
     "end_time": "2021-07-12T12:43:54.806705",
     "exception": false,
     "start_time": "2021-07-12T12:43:54.766047",
     "status": "completed"
    },
    "tags": []
   },
   "outputs": [],
   "source": [
    "# Thiết lập thông số\n",
    "model.compile(optimizer = 'adam', loss = 'binary_crossentropy', metrics = ['accuracy'])"
   ]
  },
  {
   "cell_type": "code",
   "execution_count": 50,
   "id": "ecf6f330",
   "metadata": {
    "execution": {
     "iopub.execute_input": "2021-07-12T12:43:54.850559Z",
     "iopub.status.busy": "2021-07-12T12:43:54.849508Z",
     "iopub.status.idle": "2021-07-12T13:07:46.235221Z",
     "shell.execute_reply": "2021-07-12T13:07:46.234629Z",
     "shell.execute_reply.started": "2021-07-12T12:04:47.976202Z"
    },
    "papermill": {
     "duration": 1431.408713,
     "end_time": "2021-07-12T13:07:46.235388",
     "exception": false,
     "start_time": "2021-07-12T12:43:54.826675",
     "status": "completed"
    },
    "scrolled": false,
    "tags": []
   },
   "outputs": [
    {
     "name": "stdout",
     "output_type": "stream",
     "text": [
      "Epoch 1/25\n",
      "251/251 [==============================] - 146s 581ms/step - loss: 0.6670 - accuracy: 0.5873 - val_loss: 0.6453 - val_accuracy: 0.6179\n",
      "Epoch 2/25\n",
      "251/251 [==============================] - 36s 142ms/step - loss: 0.6037 - accuracy: 0.6716 - val_loss: 0.6537 - val_accuracy: 0.6174\n",
      "Epoch 3/25\n",
      "251/251 [==============================] - 35s 140ms/step - loss: 0.5622 - accuracy: 0.7061 - val_loss: 0.5320 - val_accuracy: 0.7449\n",
      "Epoch 4/25\n",
      "251/251 [==============================] - 35s 140ms/step - loss: 0.5286 - accuracy: 0.7314 - val_loss: 0.5135 - val_accuracy: 0.7425\n",
      "Epoch 5/25\n",
      "251/251 [==============================] - 34s 135ms/step - loss: 0.5013 - accuracy: 0.7553 - val_loss: 0.5201 - val_accuracy: 0.7439\n",
      "Epoch 6/25\n",
      "251/251 [==============================] - 34s 135ms/step - loss: 0.4978 - accuracy: 0.7599 - val_loss: 0.5166 - val_accuracy: 0.7484\n",
      "Epoch 7/25\n",
      "251/251 [==============================] - 36s 142ms/step - loss: 0.4664 - accuracy: 0.7708 - val_loss: 0.4817 - val_accuracy: 0.7721\n",
      "Epoch 8/25\n",
      "251/251 [==============================] - 36s 142ms/step - loss: 0.4488 - accuracy: 0.7881 - val_loss: 0.4727 - val_accuracy: 0.7884\n",
      "Epoch 9/25\n",
      "251/251 [==============================] - 36s 143ms/step - loss: 0.4335 - accuracy: 0.7948 - val_loss: 0.5107 - val_accuracy: 0.7568\n",
      "Epoch 10/25\n",
      "251/251 [==============================] - 36s 143ms/step - loss: 0.4129 - accuracy: 0.8112 - val_loss: 0.4693 - val_accuracy: 0.7860\n",
      "Epoch 11/25\n",
      "251/251 [==============================] - 37s 147ms/step - loss: 0.4063 - accuracy: 0.8081 - val_loss: 0.4687 - val_accuracy: 0.7904\n",
      "Epoch 12/25\n",
      "251/251 [==============================] - 37s 147ms/step - loss: 0.3871 - accuracy: 0.8225 - val_loss: 0.4705 - val_accuracy: 0.7771\n",
      "Epoch 13/25\n",
      "251/251 [==============================] - 37s 148ms/step - loss: 0.3700 - accuracy: 0.8377 - val_loss: 0.4463 - val_accuracy: 0.8057\n",
      "Epoch 14/25\n",
      "251/251 [==============================] - 35s 140ms/step - loss: 0.3614 - accuracy: 0.8344 - val_loss: 0.4567 - val_accuracy: 0.7939\n",
      "Epoch 15/25\n",
      "251/251 [==============================] - 36s 143ms/step - loss: 0.3438 - accuracy: 0.8496 - val_loss: 0.4938 - val_accuracy: 0.8052\n",
      "Epoch 16/25\n",
      "251/251 [==============================] - 37s 146ms/step - loss: 0.3330 - accuracy: 0.8526 - val_loss: 0.4740 - val_accuracy: 0.7963\n",
      "Epoch 17/25\n",
      "251/251 [==============================] - 40s 159ms/step - loss: 0.3248 - accuracy: 0.8573 - val_loss: 0.4760 - val_accuracy: 0.7978\n",
      "Epoch 18/25\n",
      "251/251 [==============================] - 37s 148ms/step - loss: 0.3069 - accuracy: 0.8702 - val_loss: 0.5019 - val_accuracy: 0.7919\n",
      "Epoch 19/25\n",
      "251/251 [==============================] - 38s 149ms/step - loss: 0.2923 - accuracy: 0.8765 - val_loss: 0.4706 - val_accuracy: 0.8052\n",
      "Epoch 20/25\n",
      "251/251 [==============================] - 37s 146ms/step - loss: 0.2890 - accuracy: 0.8786 - val_loss: 0.5035 - val_accuracy: 0.7781\n",
      "Epoch 21/25\n",
      "251/251 [==============================] - 37s 148ms/step - loss: 0.2643 - accuracy: 0.8897 - val_loss: 0.5429 - val_accuracy: 0.7840\n",
      "Epoch 22/25\n",
      "251/251 [==============================] - 37s 148ms/step - loss: 0.2546 - accuracy: 0.8932 - val_loss: 0.5061 - val_accuracy: 0.8023\n",
      "Epoch 23/25\n",
      "251/251 [==============================] - 39s 156ms/step - loss: 0.2380 - accuracy: 0.9014 - val_loss: 0.5331 - val_accuracy: 0.7860\n",
      "Epoch 24/25\n",
      "251/251 [==============================] - 38s 153ms/step - loss: 0.2305 - accuracy: 0.9032 - val_loss: 0.5451 - val_accuracy: 0.7978\n",
      "Epoch 25/25\n",
      "251/251 [==============================] - 38s 152ms/step - loss: 0.2204 - accuracy: 0.9083 - val_loss: 0.5889 - val_accuracy: 0.7889\n"
     ]
    },
    {
     "data": {
      "text/plain": [
       "<keras.callbacks.History at 0x17d86c0d4c0>"
      ]
     },
     "execution_count": 50,
     "metadata": {},
     "output_type": "execute_result"
    }
   ],
   "source": [
    "# Huấn luyện\n",
    "model.fit(x = training_set, validation_data = test_set, epochs = 25)"
   ]
  },
  {
   "cell_type": "code",
   "execution_count": 51,
   "id": "a47fee37",
   "metadata": {},
   "outputs": [
    {
     "name": "stdout",
     "output_type": "stream",
     "text": [
      "64/64 [==============================] - 5s 75ms/step - loss: 0.5889 - accuracy: 0.7889\n"
     ]
    },
    {
     "data": {
      "text/plain": [
       "[0.5888890624046326, 0.7889273166656494]"
      ]
     },
     "execution_count": 51,
     "metadata": {},
     "output_type": "execute_result"
    }
   ],
   "source": [
    "model.evaluate(test_set)"
   ]
  },
  {
   "cell_type": "markdown",
   "id": "a2d3c242",
   "metadata": {},
   "source": [
    "## Kiểm thử"
   ]
  },
  {
   "cell_type": "code",
   "execution_count": 78,
   "id": "a09bc692",
   "metadata": {},
   "outputs": [
    {
     "name": "stderr",
     "output_type": "stream",
     "text": [
      "C:\\ProgramData\\Anaconda3\\lib\\site-packages\\keras\\engine\\training.py:2035: UserWarning: `Model.predict_generator` is deprecated and will be removed in a future version. Please use `Model.predict`, which supports generators.\n",
      "  warnings.warn('`Model.predict_generator` is deprecated and '\n"
     ]
    },
    {
     "data": {
      "text/plain": [
       "array([[0.9974202 ],\n",
       "       [0.91314876],\n",
       "       [0.06800005],\n",
       "       ...,\n",
       "       [0.09703622],\n",
       "       [0.45459762],\n",
       "       [0.99520266]], dtype=float32)"
      ]
     },
     "execution_count": 78,
     "metadata": {},
     "output_type": "execute_result"
    }
   ],
   "source": [
    "y_pred = model.predict_generator(test_set)\n",
    "y_pred"
   ]
  },
  {
   "cell_type": "code",
   "execution_count": 79,
   "id": "89e54bca",
   "metadata": {
    "scrolled": false
   },
   "outputs": [
    {
     "data": {
      "text/plain": [
       "array([[ True],\n",
       "       [ True],\n",
       "       [False],\n",
       "       ...,\n",
       "       [False],\n",
       "       [False],\n",
       "       [ True]])"
      ]
     },
     "execution_count": 79,
     "metadata": {},
     "output_type": "execute_result"
    }
   ],
   "source": [
    "y_pred_class = y_pred > 0.5\n",
    "y_pred_class"
   ]
  },
  {
   "cell_type": "code",
   "execution_count": 80,
   "id": "24550523",
   "metadata": {},
   "outputs": [
    {
     "data": {
      "text/plain": [
       "array([0, 0, 0, ..., 1, 1, 1])"
      ]
     },
     "execution_count": 80,
     "metadata": {},
     "output_type": "execute_result"
    }
   ],
   "source": [
    "test_set.classes"
   ]
  },
  {
   "cell_type": "code",
   "execution_count": 81,
   "id": "ab626f69",
   "metadata": {},
   "outputs": [
    {
     "name": "stdout",
     "output_type": "stream",
     "text": [
      "              precision    recall  f1-score   support\n",
      "\n",
      "           0       0.85      0.70      0.77      1011\n",
      "           1       0.75      0.87      0.81      1012\n",
      "\n",
      "    accuracy                           0.79      2023\n",
      "   macro avg       0.80      0.79      0.79      2023\n",
      "weighted avg       0.80      0.79      0.79      2023\n",
      "\n"
     ]
    }
   ],
   "source": [
    "from sklearn.metrics import classification_report\n",
    "print(classification_report(test_set.classes, y_pred_class))"
   ]
  },
  {
   "cell_type": "markdown",
   "id": "ef10d6ed",
   "metadata": {
    "papermill": {
     "duration": 1.980608,
     "end_time": "2021-07-12T13:07:50.145770",
     "exception": false,
     "start_time": "2021-07-12T13:07:48.165162",
     "status": "completed"
    },
    "tags": []
   },
   "source": [
    "## Dự đoán một số ảnh"
   ]
  },
  {
   "cell_type": "code",
   "execution_count": 120,
   "id": "71f16b0f",
   "metadata": {
    "execution": {
     "iopub.execute_input": "2021-07-12T13:07:58.059163Z",
     "iopub.status.busy": "2021-07-12T13:07:58.058487Z",
     "iopub.status.idle": "2021-07-12T13:07:58.204827Z",
     "shell.execute_reply": "2021-07-12T13:07:58.205380Z",
     "shell.execute_reply.started": "2021-07-12T12:33:45.266996Z"
    },
    "papermill": {
     "duration": 2.219195,
     "end_time": "2021-07-12T13:07:58.205632",
     "exception": false,
     "start_time": "2021-07-12T13:07:55.986437",
     "status": "completed"
    },
    "tags": []
   },
   "outputs": [
    {
     "name": "stdout",
     "output_type": "stream",
     "text": [
      "Cat\n"
     ]
    },
    {
     "data": {
      "image/png": "[encoded data removed]",
      "text/plain": [
       "<Figure size 432x288 with 1 Axes>"
      ]
     },
     "metadata": {
      "needs_background": "light"
     },
     "output_type": "display_data"
    }
   ],
   "source": [
    "from keras.preprocessing import image\n",
    "test_image = image.load_img('../Data/Cat and Dog/test_set/cats/cat.4022.jpg', target_size = (64, 64))\n",
    "test_image = image.img_to_array(test_image)\n",
    "plt.imshow(test_image/255)\n",
    "test_image = np.expand_dims(test_image, axis = 0)\n",
    "result = model.predict(test_image)\n",
    "print('Cat' if result == False else 'Dog')"
   ]
  },
  {
   "cell_type": "code",
   "execution_count": 122,
   "id": "19844f1f",
   "metadata": {
    "execution": {
     "iopub.execute_input": "2021-07-12T13:08:10.204547Z",
     "iopub.status.busy": "2021-07-12T13:08:10.203578Z",
     "iopub.status.idle": "2021-07-12T13:08:10.253994Z",
     "shell.execute_reply": "2021-07-12T13:08:10.253368Z",
     "shell.execute_reply.started": "2021-07-12T12:38:21.512612Z"
    },
    "papermill": {
     "duration": 2.004031,
     "end_time": "2021-07-12T13:08:10.254156",
     "exception": false,
     "start_time": "2021-07-12T13:08:08.250125",
     "status": "completed"
    },
    "tags": []
   },
   "outputs": [
    {
     "name": "stdout",
     "output_type": "stream",
     "text": [
      "Dog\n"
     ]
    },
    {
     "data": {
      "image/png": "[encoded data removed]",
      "text/plain": [
       "<Figure size 432x288 with 1 Axes>"
      ]
     },
     "metadata": {
      "needs_background": "light"
     },
     "output_type": "display_data"
    }
   ],
   "source": [
    "from keras.preprocessing import image\n",
    "test_image = image.load_img('../Data/Cat and Dog/test_set/dogs/dog.4022.jpg', target_size = (64, 64))\n",
    "test_image = image.img_to_array(test_image)\n",
    "plt.imshow(test_image/255)\n",
    "test_image = np.expand_dims(test_image, axis = 0)\n",
    "result = model.predict(test_image)\n",
    "print('Cat' if result == False else 'Dog')"
   ]
  },
  {
   "cell_type": "code",
   "execution_count": null,
   "id": "52a1234e",
   "metadata": {
    "execution": {
     "iopub.execute_input": "2021-07-12T13:08:14.130507Z",
     "iopub.status.busy": "2021-07-12T13:08:14.129748Z",
     "iopub.status.idle": "2021-07-12T13:08:14.134917Z",
     "shell.execute_reply": "2021-07-12T13:08:14.134398Z",
     "shell.execute_reply.started": "2021-07-12T12:38:23.796587Z"
    },
    "papermill": {
     "duration": 1.949318,
     "end_time": "2021-07-12T13:08:14.135090",
     "exception": false,
     "start_time": "2021-07-12T13:08:12.185772",
     "status": "completed"
    },
    "tags": []
   },
   "outputs": [],
   "source": []
  },
  {
   "cell_type": "code",
   "execution_count": null,
   "id": "de86b1f0",
   "metadata": {},
   "outputs": [],
   "source": []
  }
 ],
 "metadata": {
  "kernelspec": {
   "display_name": "Python 3",
   "language": "python",
   "name": "python3"
  },
  "language_info": {
   "codemirror_mode": {
    "name": "ipython",
    "version": 3
   },
   "file_extension": ".py",
   "mimetype": "text/x-python",
   "name": "python",
   "nbconvert_exporter": "python",
   "pygments_lexer": "ipython3",
   "version": "3.8.8"
  },
  "papermill": {
   "default_parameters": {},
   "duration": 1483.049559,
   "end_time": "2021-07-12T13:08:18.664972",
   "environment_variables": {},
   "exception": null,
   "input_path": "__notebook__.ipynb",
   "output_path": "__notebook__.ipynb",
   "parameters": {},
   "start_time": "2021-07-12T12:43:35.615413",
   "version": "2.3.3"
  },
  "varInspector": {
   "cols": {
    "lenName": 16,
    "lenType": 16,
    "lenVar": 40
   },
   "kernels_config": {
    "python": {
     "delete_cmd_postfix": "",
     "delete_cmd_prefix": "del ",
     "library": "var_list.py",
     "varRefreshCmd": "print(var_dic_list())"
    },
    "r": {
     "delete_cmd_postfix": ") ",
     "delete_cmd_prefix": "rm(",
     "library": "var_list.r",
     "varRefreshCmd": "cat(var_dic_list()) "
    }
   },
   "types_to_exclude": [
    "module",
    "function",
    "builtin_function_or_method",
    "instance",
    "_Feature"
   ],
   "window_display": false
  }
 },
 "nbformat": 4,
 "nbformat_minor": 5
}
