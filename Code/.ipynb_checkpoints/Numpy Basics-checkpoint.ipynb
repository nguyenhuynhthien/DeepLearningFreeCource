{
 "cells": [
  {
   "cell_type": "markdown",
   "id": "2f36d7ce",
   "metadata": {},
   "source": [
    "# Import module"
   ]
  },
  {
   "cell_type": "code",
   "execution_count": 1,
   "id": "afe8d5c1",
   "metadata": {},
   "outputs": [],
   "source": [
    "import numpy as np"
   ]
  },
  {
   "cell_type": "markdown",
   "id": "056ce5d2",
   "metadata": {},
   "source": [
    "# Tạo 1 mảng"
   ]
  },
  {
   "cell_type": "code",
   "execution_count": 4,
   "id": "20e5929c",
   "metadata": {},
   "outputs": [
    {
     "data": {
      "text/plain": [
       "array([1, 2, 3])"
      ]
     },
     "execution_count": 4,
     "metadata": {},
     "output_type": "execute_result"
    }
   ],
   "source": [
    "a = np.array([1, 2, 3])\n",
    "a"
   ]
  },
  {
   "cell_type": "code",
   "execution_count": 55,
   "id": "6584cd98",
   "metadata": {},
   "outputs": [
    {
     "name": "stdout",
     "output_type": "stream",
     "text": [
      "[1 2 3]\n"
     ]
    }
   ],
   "source": [
    "print(a)"
   ]
  },
  {
   "cell_type": "code",
   "execution_count": 58,
   "id": "378eabbb",
   "metadata": {},
   "outputs": [
    {
     "data": {
      "text/plain": [
       "(3,)"
      ]
     },
     "execution_count": 58,
     "metadata": {},
     "output_type": "execute_result"
    }
   ],
   "source": [
    "a.shape"
   ]
  },
  {
   "cell_type": "code",
   "execution_count": 6,
   "id": "f37ad4ab",
   "metadata": {},
   "outputs": [
    {
     "data": {
      "text/plain": [
       "2"
      ]
     },
     "execution_count": 6,
     "metadata": {},
     "output_type": "execute_result"
    }
   ],
   "source": [
    "a[1]"
   ]
  },
  {
   "cell_type": "markdown",
   "id": "f37ac640",
   "metadata": {},
   "source": [
    "# Mảng 2 chiều"
   ]
  },
  {
   "cell_type": "code",
   "execution_count": 59,
   "id": "3ed59c0d",
   "metadata": {},
   "outputs": [
    {
     "data": {
      "text/plain": [
       "array([[1, 2, 3],\n",
       "       [4, 5, 6]])"
      ]
     },
     "execution_count": 59,
     "metadata": {},
     "output_type": "execute_result"
    }
   ],
   "source": [
    "b = np.array([[1,2,3],[4,5,6]])\n",
    "b"
   ]
  },
  {
   "cell_type": "code",
   "execution_count": 62,
   "id": "447423d5",
   "metadata": {},
   "outputs": [
    {
     "data": {
      "text/plain": [
       "(2, 3)"
      ]
     },
     "execution_count": 62,
     "metadata": {},
     "output_type": "execute_result"
    }
   ],
   "source": [
    "b.shape"
   ]
  },
  {
   "cell_type": "code",
   "execution_count": 10,
   "id": "5d6dc2ac",
   "metadata": {},
   "outputs": [
    {
     "data": {
      "text/plain": [
       "6"
      ]
     },
     "execution_count": 10,
     "metadata": {},
     "output_type": "execute_result"
    }
   ],
   "source": [
    "b[1,2]"
   ]
  },
  {
   "cell_type": "markdown",
   "id": "97b5456c",
   "metadata": {},
   "source": [
    "# Tạo mảng ngẫu nhiên"
   ]
  },
  {
   "cell_type": "code",
   "execution_count": 64,
   "id": "1bf5fd9a",
   "metadata": {},
   "outputs": [
    {
     "data": {
      "text/plain": [
       "array([[0.00394827, 0.51219226, 0.81262096],\n",
       "       [0.61252607, 0.72175532, 0.29187607]])"
      ]
     },
     "execution_count": 64,
     "metadata": {},
     "output_type": "execute_result"
    }
   ],
   "source": [
    "np.random.random((2,3))"
   ]
  },
  {
   "cell_type": "markdown",
   "id": "9b0b915f",
   "metadata": {},
   "source": [
    "## Tạo mảng ngẫu nhiên nhưng các phần tử không thay đổi khi chạy lại"
   ]
  },
  {
   "cell_type": "code",
   "execution_count": 65,
   "id": "ca0d5705",
   "metadata": {},
   "outputs": [
    {
     "data": {
      "text/plain": [
       "array([[0.77132064, 0.02075195, 0.63364823],\n",
       "       [0.74880388, 0.49850701, 0.22479665]])"
      ]
     },
     "execution_count": 65,
     "metadata": {},
     "output_type": "execute_result"
    }
   ],
   "source": [
    "np.random.seed(10)\n",
    "c = np.random.random((2,3))\n",
    "c"
   ]
  },
  {
   "cell_type": "markdown",
   "id": "c85502f6",
   "metadata": {},
   "source": [
    "# Mảng 3 chiều (tensor toán học)"
   ]
  },
  {
   "cell_type": "code",
   "execution_count": 66,
   "id": "46f1acbe",
   "metadata": {
    "scrolled": true
   },
   "outputs": [
    {
     "data": {
      "text/plain": [
       "array([[[ 1,  2,  3],\n",
       "        [ 4,  5,  6]],\n",
       "\n",
       "       [[ 7,  8,  9],\n",
       "        [10, 11, 12]]])"
      ]
     },
     "execution_count": 66,
     "metadata": {},
     "output_type": "execute_result"
    }
   ],
   "source": [
    "d = np.array([[[1, 2, 3],\n",
    "               [4, 5, 6]],\n",
    "              \n",
    "              [[7, 8, 9],\n",
    "               [10, 11, 12]]])\n",
    "d"
   ]
  },
  {
   "cell_type": "code",
   "execution_count": 67,
   "id": "a908d1fc",
   "metadata": {
    "scrolled": true
   },
   "outputs": [
    {
     "data": {
      "text/plain": [
       "(2, 2, 3)"
      ]
     },
     "execution_count": 67,
     "metadata": {},
     "output_type": "execute_result"
    }
   ],
   "source": [
    "d.shape"
   ]
  },
  {
   "cell_type": "markdown",
   "id": "f23ff191",
   "metadata": {},
   "source": [
    "# reshape"
   ]
  },
  {
   "cell_type": "code",
   "execution_count": 68,
   "id": "e84ee07a",
   "metadata": {},
   "outputs": [
    {
     "name": "stdout",
     "output_type": "stream",
     "text": [
      "e : \n",
      " [1 2 3 4 5 6 7 8 9]\n",
      "e after reshaping : \n",
      " [[1 2 3]\n",
      " [4 5 6]\n",
      " [7 8 9]]\n"
     ]
    }
   ],
   "source": [
    "e = np.array([1, 2, 3, 4, 5, 6, 7, 8, 9])\n",
    "print('e : \\n',e)\n",
    "print('e after reshaping : \\n',e.reshape((3,3)))"
   ]
  },
  {
   "cell_type": "code",
   "execution_count": 71,
   "id": "66871f3b",
   "metadata": {
    "scrolled": true
   },
   "outputs": [
    {
     "data": {
      "text/plain": [
       "array([[1, 2, 3],\n",
       "       [4, 5, 6],\n",
       "       [7, 8, 9]])"
      ]
     },
     "execution_count": 71,
     "metadata": {},
     "output_type": "execute_result"
    }
   ],
   "source": [
    "e.reshape((3,-1))"
   ]
  },
  {
   "cell_type": "code",
   "execution_count": 73,
   "id": "9039cda1",
   "metadata": {},
   "outputs": [
    {
     "name": "stdout",
     "output_type": "stream",
     "text": [
      "b : \n",
      " [[1 2 3]\n",
      " [4 5 6]]\n",
      "b after reshaping : \n",
      " [1 2 3 4 5 6]\n"
     ]
    }
   ],
   "source": [
    "print('b : \\n',b)\n",
    "print('b after reshaping : \\n',b.reshape(6))"
   ]
  },
  {
   "cell_type": "markdown",
   "id": "af9c78fb",
   "metadata": {},
   "source": [
    "# arange "
   ]
  },
  {
   "cell_type": "code",
   "execution_count": 36,
   "id": "b12b2e11",
   "metadata": {},
   "outputs": [
    {
     "data": {
      "text/plain": [
       "array([0, 1, 2, 3, 4, 5, 6])"
      ]
     },
     "execution_count": 36,
     "metadata": {},
     "output_type": "execute_result"
    }
   ],
   "source": [
    "f = np.arange(7)\n",
    "f"
   ]
  },
  {
   "cell_type": "markdown",
   "id": "d746e462",
   "metadata": {},
   "source": [
    "## Xem thêm \n",
    "các hàm ones, zero, eye, full... tại https://viblo.asia/p/gioi-thieu-ve-numpy-mot-thu-vien-chu-yeu-phuc-vu-cho-khoa-hoc-may-tinh-cua-python-maGK7kz9Kj2"
   ]
  },
  {
   "cell_type": "markdown",
   "id": "0c86e3dc",
   "metadata": {},
   "source": [
    "# So sánh"
   ]
  },
  {
   "cell_type": "code",
   "execution_count": 74,
   "id": "991c3ae8",
   "metadata": {},
   "outputs": [
    {
     "data": {
      "text/plain": [
       "array([False, False, False, False, False,  True,  True,  True,  True])"
      ]
     },
     "execution_count": 74,
     "metadata": {},
     "output_type": "execute_result"
    }
   ],
   "source": [
    "e > 5"
   ]
  },
  {
   "cell_type": "code",
   "execution_count": 39,
   "id": "f8b8cfc7",
   "metadata": {
    "scrolled": true
   },
   "outputs": [
    {
     "data": {
      "text/plain": [
       "array([6, 7, 8, 9])"
      ]
     },
     "execution_count": 39,
     "metadata": {},
     "output_type": "execute_result"
    }
   ],
   "source": [
    "e[e > 5]"
   ]
  },
  {
   "cell_type": "markdown",
   "id": "a9d41052",
   "metadata": {},
   "source": [
    "# dtype"
   ]
  },
  {
   "cell_type": "code",
   "execution_count": 75,
   "id": "efea9ced",
   "metadata": {},
   "outputs": [
    {
     "data": {
      "text/plain": [
       "dtype('int32')"
      ]
     },
     "execution_count": 75,
     "metadata": {},
     "output_type": "execute_result"
    }
   ],
   "source": [
    "b.dtype"
   ]
  },
  {
   "cell_type": "markdown",
   "id": "bfa5d1e3",
   "metadata": {},
   "source": [
    "# Nhân từng phần tử, chia"
   ]
  },
  {
   "cell_type": "code",
   "execution_count": 76,
   "id": "ebc02a16",
   "metadata": {},
   "outputs": [
    {
     "name": "stdout",
     "output_type": "stream",
     "text": [
      "b: \n",
      " [[1 2 3]\n",
      " [4 5 6]]\n",
      "g: \n",
      " [[11 12 13]\n",
      " [14 15 16]]\n",
      "b * g :\n",
      " [[11 24 39]\n",
      " [56 75 96]]\n"
     ]
    }
   ],
   "source": [
    "g = np.array([[11,12,13],[14,15,16]])\n",
    "print('b: \\n', b)\n",
    "print('g: \\n', g)\n",
    "print('b * g :\\n', b * g)"
   ]
  },
  {
   "cell_type": "code",
   "execution_count": 77,
   "id": "08ed7401",
   "metadata": {},
   "outputs": [
    {
     "name": "stdout",
     "output_type": "stream",
     "text": [
      "b / g :\n",
      " [[0.09090909 0.16666667 0.23076923]\n",
      " [0.28571429 0.33333333 0.375     ]]\n"
     ]
    }
   ],
   "source": [
    "print('b / g :\\n', b / g)"
   ]
  },
  {
   "cell_type": "markdown",
   "id": "37925e0b",
   "metadata": {},
   "source": [
    "# Lấy tổng, max, min"
   ]
  },
  {
   "cell_type": "code",
   "execution_count": 80,
   "id": "32a0af86",
   "metadata": {
    "scrolled": true
   },
   "outputs": [
    {
     "name": "stdout",
     "output_type": "stream",
     "text": [
      "e : \n",
      " [1 2 3 4 5 6 7 8 9]\n",
      "sum of e : \n",
      " 45\n"
     ]
    }
   ],
   "source": [
    "print('e : \\n', e)\n",
    "print('sum of e : \\n', e.sum())"
   ]
  },
  {
   "cell_type": "code",
   "execution_count": 48,
   "id": "6889ee0a",
   "metadata": {},
   "outputs": [
    {
     "data": {
      "text/plain": [
       "9"
      ]
     },
     "execution_count": 48,
     "metadata": {},
     "output_type": "execute_result"
    }
   ],
   "source": [
    "e.max()"
   ]
  },
  {
   "cell_type": "code",
   "execution_count": 49,
   "id": "ef376af1",
   "metadata": {},
   "outputs": [
    {
     "data": {
      "text/plain": [
       "1"
      ]
     },
     "execution_count": 49,
     "metadata": {},
     "output_type": "execute_result"
    }
   ],
   "source": [
    "e.min()"
   ]
  },
  {
   "cell_type": "markdown",
   "id": "f6d15801",
   "metadata": {},
   "source": [
    "# Nhân ma trận"
   ]
  },
  {
   "attachments": {
    "image.png": {
     "image/png": "[encoded data removed]"
    }
   },
   "cell_type": "markdown",
   "id": "c834502c",
   "metadata": {},
   "source": [
    "![image.png](attachment:image.png)"
   ]
  },
  {
   "cell_type": "code",
   "execution_count": 83,
   "id": "adb09e5c",
   "metadata": {},
   "outputs": [
    {
     "name": "stdout",
     "output_type": "stream",
     "text": [
      "A: \n",
      " [[ 1  1]\n",
      " [ 2  1]\n",
      " [ 3 -3]\n",
      " [ 5  9]]\n",
      "B: \n",
      " [[ 3  6  7]\n",
      " [ 5 -3  0]]\n",
      "C: \n",
      " [[ 8  3  7]\n",
      " [11  9 14]\n",
      " [-6 27 21]\n",
      " [60  3 35]]\n"
     ]
    }
   ],
   "source": [
    "A = np.array([[1, 1], [2, 1], [3, -3], [5, 9]])\n",
    "B = np.array([[3, 6, 7], [5, -3, 0]])\n",
    "C = A.dot(B)\n",
    "print('A: \\n', A)\n",
    "print('B: \\n', B)\n",
    "print('C: \\n', C)"
   ]
  },
  {
   "cell_type": "code",
   "execution_count": null,
   "id": "218b794c",
   "metadata": {},
   "outputs": [],
   "source": []
  }
 ],
 "metadata": {
  "kernelspec": {
   "display_name": "Python 3",
   "language": "python",
   "name": "python3"
  },
  "language_info": {
   "codemirror_mode": {
    "name": "ipython",
    "version": 3
   },
   "file_extension": ".py",
   "mimetype": "text/x-python",
   "name": "python",
   "nbconvert_exporter": "python",
   "pygments_lexer": "ipython3",
   "version": "3.8.8"
  },
  "varInspector": {
   "cols": {
    "lenName": 16,
    "lenType": 16,
    "lenVar": 40
   },
   "kernels_config": {
    "python": {
     "delete_cmd_postfix": "",
     "delete_cmd_prefix": "del ",
     "library": "var_list.py",
     "varRefreshCmd": "print(var_dic_list())"
    },
    "r": {
     "delete_cmd_postfix": ") ",
     "delete_cmd_prefix": "rm(",
     "library": "var_list.r",
     "varRefreshCmd": "cat(var_dic_list()) "
    }
   },
   "types_to_exclude": [
    "module",
    "function",
    "builtin_function_or_method",
    "instance",
    "_Feature"
   ],
   "window_display": false
  }
 },
 "nbformat": 4,
 "nbformat_minor": 5
}
