{
 "cells": [
  {
   "cell_type": "markdown",
   "metadata": {},
   "source": [
    "# Binary classification with DNN / Phân loại nhị phân bằng DNN"
   ]
  },
  {
   "cell_type": "markdown",
   "metadata": {},
   "source": [
    "## Import motdules"
   ]
  },
  {
   "cell_type": "code",
   "execution_count": 1,
   "metadata": {},
   "outputs": [],
   "source": [
    "%matplotlib inline\n",
    "import matplotlib.pyplot as plt\n",
    "import pandas as pd\n",
    "import numpy as np"
   ]
  },
  {
   "cell_type": "markdown",
   "metadata": {},
   "source": [
    "## Binary Classification"
   ]
  },
  {
   "cell_type": "code",
   "execution_count": 2,
   "metadata": {
    "scrolled": true
   },
   "outputs": [
    {
     "data": {
      "text/html": [
       "<div>\n",
       "<style scoped>\n",
       "    .dataframe tbody tr th:only-of-type {\n",
       "        vertical-align: middle;\n",
       "    }\n",
       "\n",
       "    .dataframe tbody tr th {\n",
       "        vertical-align: top;\n",
       "    }\n",
       "\n",
       "    .dataframe thead th {\n",
       "        text-align: right;\n",
       "    }\n",
       "</style>\n",
       "<table border=\"1\" class=\"dataframe\">\n",
       "  <thead>\n",
       "    <tr style=\"text-align: right;\">\n",
       "      <th></th>\n",
       "      <th>Pregnancies</th>\n",
       "      <th>Glucose</th>\n",
       "      <th>BloodPressure</th>\n",
       "      <th>SkinThickness</th>\n",
       "      <th>Insulin</th>\n",
       "      <th>BMI</th>\n",
       "      <th>DiabetesPedigreeFunction</th>\n",
       "      <th>Age</th>\n",
       "      <th>Outcome</th>\n",
       "    </tr>\n",
       "  </thead>\n",
       "  <tbody>\n",
       "    <tr>\n",
       "      <th>0</th>\n",
       "      <td>6</td>\n",
       "      <td>148</td>\n",
       "      <td>72</td>\n",
       "      <td>35</td>\n",
       "      <td>0</td>\n",
       "      <td>33.6</td>\n",
       "      <td>0.627</td>\n",
       "      <td>50</td>\n",
       "      <td>1</td>\n",
       "    </tr>\n",
       "    <tr>\n",
       "      <th>1</th>\n",
       "      <td>1</td>\n",
       "      <td>85</td>\n",
       "      <td>66</td>\n",
       "      <td>29</td>\n",
       "      <td>0</td>\n",
       "      <td>26.6</td>\n",
       "      <td>0.351</td>\n",
       "      <td>31</td>\n",
       "      <td>0</td>\n",
       "    </tr>\n",
       "    <tr>\n",
       "      <th>2</th>\n",
       "      <td>8</td>\n",
       "      <td>183</td>\n",
       "      <td>64</td>\n",
       "      <td>0</td>\n",
       "      <td>0</td>\n",
       "      <td>23.3</td>\n",
       "      <td>0.672</td>\n",
       "      <td>32</td>\n",
       "      <td>1</td>\n",
       "    </tr>\n",
       "    <tr>\n",
       "      <th>3</th>\n",
       "      <td>1</td>\n",
       "      <td>89</td>\n",
       "      <td>66</td>\n",
       "      <td>23</td>\n",
       "      <td>94</td>\n",
       "      <td>28.1</td>\n",
       "      <td>0.167</td>\n",
       "      <td>21</td>\n",
       "      <td>0</td>\n",
       "    </tr>\n",
       "    <tr>\n",
       "      <th>4</th>\n",
       "      <td>0</td>\n",
       "      <td>137</td>\n",
       "      <td>40</td>\n",
       "      <td>35</td>\n",
       "      <td>168</td>\n",
       "      <td>43.1</td>\n",
       "      <td>2.288</td>\n",
       "      <td>33</td>\n",
       "      <td>1</td>\n",
       "    </tr>\n",
       "  </tbody>\n",
       "</table>\n",
       "</div>"
      ],
      "text/plain": [
       "   Pregnancies  Glucose  BloodPressure  SkinThickness  Insulin   BMI  \\\n",
       "0            6      148             72             35        0  33.6   \n",
       "1            1       85             66             29        0  26.6   \n",
       "2            8      183             64              0        0  23.3   \n",
       "3            1       89             66             23       94  28.1   \n",
       "4            0      137             40             35      168  43.1   \n",
       "\n",
       "   DiabetesPedigreeFunction  Age  Outcome  \n",
       "0                     0.627   50        1  \n",
       "1                     0.351   31        0  \n",
       "2                     0.672   32        1  \n",
       "3                     0.167   21        0  \n",
       "4                     2.288   33        1  "
      ]
     },
     "execution_count": 2,
     "metadata": {},
     "output_type": "execute_result"
    }
   ],
   "source": [
    "df = pd.read_csv('../data/diabetes2.csv')\n",
    "# Xoá những dòng nào có ô không có giá trị (NA)\n",
    "df = df.dropna()\n",
    "df.head()"
   ]
  },
  {
   "cell_type": "code",
   "execution_count": 3,
   "metadata": {
    "scrolled": true
   },
   "outputs": [
    {
     "name": "stdout",
     "output_type": "stream",
     "text": [
      "<class 'pandas.core.frame.DataFrame'>\n",
      "Int64Index: 768 entries, 0 to 767\n",
      "Data columns (total 9 columns):\n",
      " #   Column                    Non-Null Count  Dtype  \n",
      "---  ------                    --------------  -----  \n",
      " 0   Pregnancies               768 non-null    int64  \n",
      " 1   Glucose                   768 non-null    int64  \n",
      " 2   BloodPressure             768 non-null    int64  \n",
      " 3   SkinThickness             768 non-null    int64  \n",
      " 4   Insulin                   768 non-null    int64  \n",
      " 5   BMI                       768 non-null    float64\n",
      " 6   DiabetesPedigreeFunction  768 non-null    float64\n",
      " 7   Age                       768 non-null    int64  \n",
      " 8   Outcome                   768 non-null    int64  \n",
      "dtypes: float64(2), int64(7)\n",
      "memory usage: 60.0 KB\n"
     ]
    }
   ],
   "source": [
    "df.info()"
   ]
  },
  {
   "cell_type": "code",
   "execution_count": 11,
   "metadata": {},
   "outputs": [],
   "source": [
    "# import seaborn as sns\n",
    "# sns.pairplot(df, hue = 'Outcome')"
   ]
  },
  {
   "cell_type": "code",
   "execution_count": 5,
   "metadata": {},
   "outputs": [
    {
     "data": {
      "text/html": [
       "<div>\n",
       "<style scoped>\n",
       "    .dataframe tbody tr th:only-of-type {\n",
       "        vertical-align: middle;\n",
       "    }\n",
       "\n",
       "    .dataframe tbody tr th {\n",
       "        vertical-align: top;\n",
       "    }\n",
       "\n",
       "    .dataframe thead th {\n",
       "        text-align: right;\n",
       "    }\n",
       "</style>\n",
       "<table border=\"1\" class=\"dataframe\">\n",
       "  <thead>\n",
       "    <tr style=\"text-align: right;\">\n",
       "      <th></th>\n",
       "      <th>Pregnancies</th>\n",
       "      <th>Glucose</th>\n",
       "      <th>BloodPressure</th>\n",
       "      <th>SkinThickness</th>\n",
       "      <th>Insulin</th>\n",
       "      <th>BMI</th>\n",
       "      <th>DiabetesPedigreeFunction</th>\n",
       "      <th>Age</th>\n",
       "    </tr>\n",
       "  </thead>\n",
       "  <tbody>\n",
       "    <tr>\n",
       "      <th>0</th>\n",
       "      <td>6</td>\n",
       "      <td>148</td>\n",
       "      <td>72</td>\n",
       "      <td>35</td>\n",
       "      <td>0</td>\n",
       "      <td>33.6</td>\n",
       "      <td>0.627</td>\n",
       "      <td>50</td>\n",
       "    </tr>\n",
       "    <tr>\n",
       "      <th>1</th>\n",
       "      <td>1</td>\n",
       "      <td>85</td>\n",
       "      <td>66</td>\n",
       "      <td>29</td>\n",
       "      <td>0</td>\n",
       "      <td>26.6</td>\n",
       "      <td>0.351</td>\n",
       "      <td>31</td>\n",
       "    </tr>\n",
       "    <tr>\n",
       "      <th>2</th>\n",
       "      <td>8</td>\n",
       "      <td>183</td>\n",
       "      <td>64</td>\n",
       "      <td>0</td>\n",
       "      <td>0</td>\n",
       "      <td>23.3</td>\n",
       "      <td>0.672</td>\n",
       "      <td>32</td>\n",
       "    </tr>\n",
       "    <tr>\n",
       "      <th>3</th>\n",
       "      <td>1</td>\n",
       "      <td>89</td>\n",
       "      <td>66</td>\n",
       "      <td>23</td>\n",
       "      <td>94</td>\n",
       "      <td>28.1</td>\n",
       "      <td>0.167</td>\n",
       "      <td>21</td>\n",
       "    </tr>\n",
       "    <tr>\n",
       "      <th>4</th>\n",
       "      <td>0</td>\n",
       "      <td>137</td>\n",
       "      <td>40</td>\n",
       "      <td>35</td>\n",
       "      <td>168</td>\n",
       "      <td>43.1</td>\n",
       "      <td>2.288</td>\n",
       "      <td>33</td>\n",
       "    </tr>\n",
       "  </tbody>\n",
       "</table>\n",
       "</div>"
      ],
      "text/plain": [
       "   Pregnancies  Glucose  BloodPressure  SkinThickness  Insulin   BMI  \\\n",
       "0            6      148             72             35        0  33.6   \n",
       "1            1       85             66             29        0  26.6   \n",
       "2            8      183             64              0        0  23.3   \n",
       "3            1       89             66             23       94  28.1   \n",
       "4            0      137             40             35      168  43.1   \n",
       "\n",
       "   DiabetesPedigreeFunction  Age  \n",
       "0                     0.627   50  \n",
       "1                     0.351   31  \n",
       "2                     0.672   32  \n",
       "3                     0.167   21  \n",
       "4                     2.288   33  "
      ]
     },
     "execution_count": 5,
     "metadata": {},
     "output_type": "execute_result"
    }
   ],
   "source": [
    "X = df.drop('Outcome', axis=1)\n",
    "X.head()"
   ]
  },
  {
   "cell_type": "code",
   "execution_count": 6,
   "metadata": {},
   "outputs": [],
   "source": [
    "y = df['Outcome']"
   ]
  },
  {
   "cell_type": "markdown",
   "metadata": {},
   "source": [
    "## Train test split"
   ]
  },
  {
   "cell_type": "code",
   "execution_count": 7,
   "metadata": {},
   "outputs": [],
   "source": [
    "from sklearn.model_selection import train_test_split"
   ]
  },
  {
   "cell_type": "code",
   "execution_count": 8,
   "metadata": {},
   "outputs": [],
   "source": [
    "X_train, X_test, y_train, y_test = train_test_split(X.values, y.values,\n",
    "                                                    test_size=0.2,\n",
    "                                                    random_state=10)\n",
    "from sklearn.preprocessing import MinMaxScaler\n",
    "scaler =  MinMaxScaler()\n",
    "X_train=scaler.fit_transform(X_train)\n",
    "X_test=scaler.fit_transform(X_test)"
   ]
  },
  {
   "cell_type": "code",
   "execution_count": 9,
   "metadata": {},
   "outputs": [],
   "source": [
    "from tensorflow.keras.models import Sequential\n",
    "from tensorflow.keras.layers import Dense\n",
    "from tensorflow.keras.optimizers import SGD, Adam\n",
    "from tensorflow.keras.callbacks import EarlyStopping"
   ]
  },
  {
   "cell_type": "markdown",
   "metadata": {},
   "source": [
    "## Early Stopping"
   ]
  },
  {
   "cell_type": "code",
   "execution_count": 10,
   "metadata": {},
   "outputs": [],
   "source": [
    "early_stop = EarlyStopping(monitor='loss', patience=10, verbose=1)"
   ]
  },
  {
   "cell_type": "markdown",
   "metadata": {},
   "source": [
    "## Tạo model"
   ]
  },
  {
   "cell_type": "code",
   "execution_count": 12,
   "metadata": {},
   "outputs": [],
   "source": [
    "model = Sequential()\n",
    "model.add(Dense(32, input_shape=(8,), activation='relu'))\n",
    "model.add(Dense(32, activation='relu'))\n",
    "model.add(Dense(32, activation='relu'))\n",
    "# model.add(Dense(10, activation='tanh'))\n",
    "# model.add(Dense(8, activation='tanh'))\n",
    "# model.add(Dense(4, activation='tanh'))\n",
    "model.add(Dense(1, activation='sigmoid'))\n",
    "model.compile(optimizer = Adam(learning_rate=0.05), loss = 'binary_crossentropy', metrics=['accuracy'])"
   ]
  },
  {
   "cell_type": "markdown",
   "metadata": {},
   "source": [
    "## Train model"
   ]
  },
  {
   "cell_type": "code",
   "execution_count": 13,
   "metadata": {},
   "outputs": [
    {
     "name": "stdout",
     "output_type": "stream",
     "text": [
      "Epoch 1/100\n",
      "20/20 [==============================] - 1s 9ms/step - loss: 0.6244 - accuracy: 0.6564\n",
      "Epoch 2/100\n",
      "20/20 [==============================] - 0s 10ms/step - loss: 0.5661 - accuracy: 0.6987\n",
      "Epoch 3/100\n",
      "20/20 [==============================] - 0s 9ms/step - loss: 0.5088 - accuracy: 0.7248\n",
      "Epoch 4/100\n",
      "20/20 [==============================] - 0s 10ms/step - loss: 0.5316 - accuracy: 0.7248\n",
      "Epoch 5/100\n",
      "20/20 [==============================] - 0s 10ms/step - loss: 0.5277 - accuracy: 0.7378\n",
      "Epoch 6/100\n",
      "20/20 [==============================] - 0s 9ms/step - loss: 0.5102 - accuracy: 0.7296\n",
      "Epoch 7/100\n",
      "20/20 [==============================] - 0s 10ms/step - loss: 0.5113 - accuracy: 0.7329\n",
      "Epoch 8/100\n",
      "20/20 [==============================] - 0s 10ms/step - loss: 0.4794 - accuracy: 0.7524\n",
      "Epoch 9/100\n",
      "20/20 [==============================] - 0s 10ms/step - loss: 0.4752 - accuracy: 0.7720\n",
      "Epoch 10/100\n",
      "20/20 [==============================] - 0s 8ms/step - loss: 0.4707 - accuracy: 0.7769\n",
      "Epoch 11/100\n",
      "20/20 [==============================] - 0s 9ms/step - loss: 0.5077 - accuracy: 0.7264\n",
      "Epoch 12/100\n",
      "20/20 [==============================] - 0s 10ms/step - loss: 0.4952 - accuracy: 0.7313\n",
      "Epoch 13/100\n",
      "20/20 [==============================] - 0s 9ms/step - loss: 0.5088 - accuracy: 0.7508\n",
      "Epoch 14/100\n",
      "20/20 [==============================] - 0s 9ms/step - loss: 0.4990 - accuracy: 0.7541\n",
      "Epoch 15/100\n",
      "20/20 [==============================] - 0s 9ms/step - loss: 0.4954 - accuracy: 0.7622\n",
      "Epoch 16/100\n",
      "20/20 [==============================] - 0s 9ms/step - loss: 0.4771 - accuracy: 0.7736\n",
      "Epoch 17/100\n",
      "20/20 [==============================] - 0s 12ms/step - loss: 0.5324 - accuracy: 0.7606\n",
      "Epoch 18/100\n",
      "20/20 [==============================] - 0s 10ms/step - loss: 0.4690 - accuracy: 0.7590\n",
      "Epoch 19/100\n",
      "20/20 [==============================] - 0s 9ms/step - loss: 0.4860 - accuracy: 0.7557\n",
      "Epoch 20/100\n",
      "20/20 [==============================] - 0s 12ms/step - loss: 0.4743 - accuracy: 0.7638\n",
      "Epoch 21/100\n",
      "20/20 [==============================] - 0s 10ms/step - loss: 0.4962 - accuracy: 0.7687\n",
      "Epoch 22/100\n",
      "20/20 [==============================] - 0s 9ms/step - loss: 0.4937 - accuracy: 0.7622\n",
      "Epoch 23/100\n",
      "20/20 [==============================] - 0s 9ms/step - loss: 0.4733 - accuracy: 0.7883\n",
      "Epoch 24/100\n",
      "20/20 [==============================] - 0s 10ms/step - loss: 0.4905 - accuracy: 0.7476\n",
      "Epoch 25/100\n",
      "20/20 [==============================] - 0s 12ms/step - loss: 0.4967 - accuracy: 0.7818\n",
      "Epoch 26/100\n",
      "20/20 [==============================] - 0s 12ms/step - loss: 0.4612 - accuracy: 0.7899\n",
      "Epoch 27/100\n",
      "20/20 [==============================] - 0s 9ms/step - loss: 0.4588 - accuracy: 0.7785\n",
      "Epoch 28/100\n",
      "20/20 [==============================] - 0s 10ms/step - loss: 0.4785 - accuracy: 0.7687\n",
      "Epoch 29/100\n",
      "20/20 [==============================] - 0s 10ms/step - loss: 0.4610 - accuracy: 0.7785\n",
      "Epoch 30/100\n",
      "20/20 [==============================] - 0s 11ms/step - loss: 0.4716 - accuracy: 0.7736\n",
      "Epoch 31/100\n",
      "20/20 [==============================] - 0s 12ms/step - loss: 0.4876 - accuracy: 0.7655\n",
      "Epoch 32/100\n",
      "20/20 [==============================] - 0s 13ms/step - loss: 0.4509 - accuracy: 0.7752\n",
      "Epoch 33/100\n",
      "20/20 [==============================] - 0s 13ms/step - loss: 0.4627 - accuracy: 0.7932\n",
      "Epoch 34/100\n",
      "20/20 [==============================] - 0s 10ms/step - loss: 0.4822 - accuracy: 0.7492\n",
      "Epoch 35/100\n",
      "20/20 [==============================] - 0s 9ms/step - loss: 0.4597 - accuracy: 0.7866\n",
      "Epoch 36/100\n",
      "20/20 [==============================] - 0s 9ms/step - loss: 0.4565 - accuracy: 0.7834\n",
      "Epoch 37/100\n",
      "20/20 [==============================] - 0s 8ms/step - loss: 0.4861 - accuracy: 0.7834\n",
      "Epoch 38/100\n",
      "20/20 [==============================] - 0s 9ms/step - loss: 0.4591 - accuracy: 0.7769\n",
      "Epoch 39/100\n",
      "20/20 [==============================] - 0s 9ms/step - loss: 0.4616 - accuracy: 0.7769\n",
      "Epoch 40/100\n",
      "20/20 [==============================] - 0s 9ms/step - loss: 0.4683 - accuracy: 0.7638\n",
      "Epoch 41/100\n",
      "20/20 [==============================] - 0s 10ms/step - loss: 0.4662 - accuracy: 0.7671\n",
      "Epoch 42/100\n",
      "20/20 [==============================] - 0s 12ms/step - loss: 0.4483 - accuracy: 0.7850\n",
      "Epoch 43/100\n",
      "20/20 [==============================] - 0s 13ms/step - loss: 0.4490 - accuracy: 0.7834\n",
      "Epoch 44/100\n",
      "20/20 [==============================] - 0s 9ms/step - loss: 0.4581 - accuracy: 0.7704\n",
      "Epoch 45/100\n",
      "20/20 [==============================] - 0s 10ms/step - loss: 0.4509 - accuracy: 0.7785\n",
      "Epoch 46/100\n",
      "20/20 [==============================] - 0s 9ms/step - loss: 0.4654 - accuracy: 0.7866\n",
      "Epoch 47/100\n",
      "20/20 [==============================] - 0s 10ms/step - loss: 0.4445 - accuracy: 0.7899\n",
      "Epoch 48/100\n",
      "20/20 [==============================] - 0s 10ms/step - loss: 0.4518 - accuracy: 0.7818\n",
      "Epoch 49/100\n",
      "20/20 [==============================] - 0s 9ms/step - loss: 0.4557 - accuracy: 0.7785\n",
      "Epoch 50/100\n",
      "20/20 [==============================] - 0s 9ms/step - loss: 0.4633 - accuracy: 0.7834\n",
      "Epoch 51/100\n",
      "20/20 [==============================] - 0s 10ms/step - loss: 0.4887 - accuracy: 0.7638\n",
      "Epoch 52/100\n",
      "20/20 [==============================] - 0s 9ms/step - loss: 0.4603 - accuracy: 0.7818\n",
      "Epoch 53/100\n",
      "20/20 [==============================] - 0s 10ms/step - loss: 0.4483 - accuracy: 0.7899\n",
      "Epoch 54/100\n",
      "20/20 [==============================] - 0s 10ms/step - loss: 0.5084 - accuracy: 0.7655\n",
      "Epoch 55/100\n",
      "20/20 [==============================] - 0s 9ms/step - loss: 0.4718 - accuracy: 0.7606\n",
      "Epoch 56/100\n",
      "20/20 [==============================] - 0s 10ms/step - loss: 0.4640 - accuracy: 0.7801\n",
      "Epoch 57/100\n",
      "20/20 [==============================] - 0s 10ms/step - loss: 0.4599 - accuracy: 0.7801\n",
      "Epoch 58/100\n",
      "20/20 [==============================] - 0s 8ms/step - loss: 0.4743 - accuracy: 0.7655\n",
      "Epoch 59/100\n",
      "20/20 [==============================] - 0s 8ms/step - loss: 0.5073 - accuracy: 0.7443\n",
      "Epoch 60/100\n",
      "20/20 [==============================] - 0s 10ms/step - loss: 0.4922 - accuracy: 0.7671\n",
      "Epoch 61/100\n",
      "20/20 [==============================] - 0s 11ms/step - loss: 0.4648 - accuracy: 0.7818\n",
      "Epoch 62/100\n",
      "20/20 [==============================] - 0s 9ms/step - loss: 0.4545 - accuracy: 0.7818\n",
      "Epoch 63/100\n",
      "20/20 [==============================] - 0s 9ms/step - loss: 0.4584 - accuracy: 0.7818\n",
      "Epoch 64/100\n",
      "20/20 [==============================] - 0s 9ms/step - loss: 0.4933 - accuracy: 0.7687\n",
      "Epoch 65/100\n",
      "20/20 [==============================] - 0s 11ms/step - loss: 0.4562 - accuracy: 0.7899\n",
      "Epoch 66/100\n",
      "20/20 [==============================] - 0s 11ms/step - loss: 0.4511 - accuracy: 0.7850\n",
      "Epoch 67/100\n",
      "20/20 [==============================] - 0s 8ms/step - loss: 0.4539 - accuracy: 0.7752\n",
      "Epoch 68/100\n",
      "20/20 [==============================] - 0s 11ms/step - loss: 0.4440 - accuracy: 0.7834\n",
      "Epoch 69/100\n",
      "20/20 [==============================] - 0s 10ms/step - loss: 0.4645 - accuracy: 0.7948\n",
      "Epoch 70/100\n",
      "20/20 [==============================] - 0s 10ms/step - loss: 0.4544 - accuracy: 0.7801\n",
      "Epoch 71/100\n",
      "20/20 [==============================] - 0s 9ms/step - loss: 0.4611 - accuracy: 0.7769\n",
      "Epoch 72/100\n",
      "20/20 [==============================] - 0s 10ms/step - loss: 0.4488 - accuracy: 0.7883\n",
      "Epoch 73/100\n",
      "20/20 [==============================] - 0s 11ms/step - loss: 0.4547 - accuracy: 0.7573\n",
      "Epoch 74/100\n",
      "20/20 [==============================] - 0s 9ms/step - loss: 0.4458 - accuracy: 0.7899\n",
      "Epoch 75/100\n",
      "20/20 [==============================] - 0s 10ms/step - loss: 0.4478 - accuracy: 0.7899\n",
      "Epoch 76/100\n",
      "20/20 [==============================] - 0s 13ms/step - loss: 0.4484 - accuracy: 0.7850\n",
      "Epoch 77/100\n",
      "20/20 [==============================] - 0s 11ms/step - loss: 0.4522 - accuracy: 0.7769\n",
      "Epoch 78/100\n",
      "20/20 [==============================] - 0s 14ms/step - loss: 0.4684 - accuracy: 0.7557\n",
      "Epoch 79/100\n",
      "20/20 [==============================] - 0s 10ms/step - loss: 0.4720 - accuracy: 0.7866\n",
      "Epoch 80/100\n",
      "20/20 [==============================] - 0s 9ms/step - loss: 0.4579 - accuracy: 0.7850\n",
      "Epoch 81/100\n",
      "20/20 [==============================] - 0s 8ms/step - loss: 0.4643 - accuracy: 0.7736\n",
      "Epoch 82/100\n"
     ]
    },
    {
     "name": "stdout",
     "output_type": "stream",
     "text": [
      "20/20 [==============================] - 0s 11ms/step - loss: 0.4673 - accuracy: 0.7866\n",
      "Epoch 83/100\n",
      "20/20 [==============================] - 0s 9ms/step - loss: 0.4732 - accuracy: 0.7785\n",
      "Epoch 84/100\n",
      "20/20 [==============================] - 0s 9ms/step - loss: 0.4602 - accuracy: 0.7736\n",
      "Epoch 85/100\n",
      "20/20 [==============================] - 0s 11ms/step - loss: 0.4606 - accuracy: 0.7834\n",
      "Epoch 86/100\n",
      "20/20 [==============================] - 0s 9ms/step - loss: 0.4451 - accuracy: 0.7752\n",
      "Epoch 87/100\n",
      "20/20 [==============================] - 0s 7ms/step - loss: 0.4740 - accuracy: 0.7850\n",
      "Epoch 88/100\n",
      "20/20 [==============================] - 0s 8ms/step - loss: 0.4538 - accuracy: 0.7818\n",
      "Epoch 89/100\n",
      "20/20 [==============================] - 0s 9ms/step - loss: 0.4402 - accuracy: 0.7850\n",
      "Epoch 90/100\n",
      "20/20 [==============================] - 0s 9ms/step - loss: 0.4417 - accuracy: 0.7915\n",
      "Epoch 91/100\n",
      "20/20 [==============================] - 0s 8ms/step - loss: 0.4389 - accuracy: 0.7980\n",
      "Epoch 92/100\n",
      "20/20 [==============================] - 0s 9ms/step - loss: 0.4483 - accuracy: 0.7899\n",
      "Epoch 93/100\n",
      "20/20 [==============================] - 0s 9ms/step - loss: 0.4546 - accuracy: 0.7834\n",
      "Epoch 94/100\n",
      "20/20 [==============================] - 0s 8ms/step - loss: 0.4548 - accuracy: 0.7834\n",
      "Epoch 95/100\n",
      "20/20 [==============================] - 0s 9ms/step - loss: 0.4393 - accuracy: 0.7818\n",
      "Epoch 96/100\n",
      "20/20 [==============================] - 0s 9ms/step - loss: 0.4393 - accuracy: 0.7883\n",
      "Epoch 97/100\n",
      "20/20 [==============================] - 0s 8ms/step - loss: 0.4748 - accuracy: 0.7687\n",
      "Epoch 98/100\n",
      "20/20 [==============================] - 0s 9ms/step - loss: 0.4674 - accuracy: 0.7671\n",
      "Epoch 99/100\n",
      "20/20 [==============================] - 0s 8ms/step - loss: 0.4504 - accuracy: 0.7866\n",
      "Epoch 100/100\n",
      "20/20 [==============================] - 0s 9ms/step - loss: 0.4398 - accuracy: 0.7915\n"
     ]
    },
    {
     "data": {
      "text/plain": [
       "<keras.callbacks.History at 0x2578110f6a0>"
      ]
     },
     "execution_count": 13,
     "metadata": {},
     "output_type": "execute_result"
    }
   ],
   "source": [
    "model.fit(X_train, y_train, epochs=100, verbose=1, batch_size = 0)"
   ]
  },
  {
   "cell_type": "code",
   "execution_count": 14,
   "metadata": {},
   "outputs": [
    {
     "name": "stdout",
     "output_type": "stream",
     "text": [
      "5/5 [==============================] - 0s 5ms/step - loss: 0.5125 - accuracy: 0.7727\n",
      "Loss: 0.5124872326850891\n",
      "Accuracy: 0.7727272510528564\n"
     ]
    }
   ],
   "source": [
    "# tính loss và accuracy (metrics)\n",
    "loss, accuracy = model.evaluate(X_test, y_test)\n",
    "print(\"Loss: \" + str(loss));\n",
    "print(\"Accuracy: \" + str(accuracy));"
   ]
  },
  {
   "cell_type": "code",
   "execution_count": 15,
   "metadata": {},
   "outputs": [],
   "source": [
    "from sklearn.metrics import accuracy_score, confusion_matrix"
   ]
  },
  {
   "cell_type": "code",
   "execution_count": 16,
   "metadata": {
    "scrolled": true
   },
   "outputs": [
    {
     "name": "stdout",
     "output_type": "stream",
     "text": [
      "The Accuracy score on the Train set is: 0.7899022801302932\n",
      "The Accuracy score on the Test set is: 0.7727272727272727\n"
     ]
    }
   ],
   "source": [
    "y_train_pred = model.predict(X_train) > 0.5\n",
    "y_test_pred = model.predict(X_test) > 0.5\n",
    "\n",
    "print(\"The Accuracy score on the Train set is: \" + str(accuracy_score(y_train, y_train_pred)))\n",
    "print(\"The Accuracy score on the Test set is: \" + str(accuracy_score(y_test, y_test_pred)))"
   ]
  },
  {
   "cell_type": "code",
   "execution_count": 17,
   "metadata": {},
   "outputs": [
    {
     "data": {
      "text/plain": [
       "array([[72, 23],\n",
       "       [12, 47]], dtype=int64)"
      ]
     },
     "execution_count": 17,
     "metadata": {},
     "output_type": "execute_result"
    }
   ],
   "source": [
    "confusion_matrix(y_test, y_test_pred)"
   ]
  },
  {
   "cell_type": "code",
   "execution_count": 19,
   "metadata": {},
   "outputs": [],
   "source": [
    "# model.predict(X_test)"
   ]
  },
  {
   "cell_type": "code",
   "execution_count": 20,
   "metadata": {
    "scrolled": true
   },
   "outputs": [
    {
     "data": {
      "text/plain": [
       "0.8337198929527208"
      ]
     },
     "execution_count": 20,
     "metadata": {},
     "output_type": "execute_result"
    }
   ],
   "source": [
    "from sklearn.metrics import auc, roc_curve, classification_report\n",
    "fpr, tpr, thresholds = roc_curve(y_test, model.predict(X_test), pos_label=1)\n",
    "auc(fpr, tpr)"
   ]
  },
  {
   "cell_type": "code",
   "execution_count": 21,
   "metadata": {},
   "outputs": [
    {
     "name": "stdout",
     "output_type": "stream",
     "text": [
      "              precision    recall  f1-score   support\n",
      "\n",
      "           0       0.86      0.76      0.80        95\n",
      "           1       0.67      0.80      0.73        59\n",
      "\n",
      "    accuracy                           0.77       154\n",
      "   macro avg       0.76      0.78      0.77       154\n",
      "weighted avg       0.79      0.77      0.78       154\n",
      "\n"
     ]
    }
   ],
   "source": [
    "print(classification_report(y_test, y_test_pred))"
   ]
  },
  {
   "cell_type": "code",
   "execution_count": 22,
   "metadata": {},
   "outputs": [
    {
     "data": {
      "text/plain": [
       "Text(0, 0.5, 'True positive rate (Sensitivity)')"
      ]
     },
     "execution_count": 22,
     "metadata": {},
     "output_type": "execute_result"
    },
    {
     "data": {
      "image/png": "[encoded data removed]",
      "text/plain": [
       "<Figure size 432x288 with 1 Axes>"
      ]
     },
     "metadata": {
      "needs_background": "light"
     },
     "output_type": "display_data"
    }
   ],
   "source": [
    "plt.plot(fpr, tpr)\n",
    "plt.title('ROC')\n",
    "plt.xlabel('False positive rate')\n",
    "plt.ylabel('True positive rate (Sensitivity)')"
   ]
  },
  {
   "cell_type": "code",
   "execution_count": null,
   "metadata": {},
   "outputs": [],
   "source": []
  },
  {
   "cell_type": "code",
   "execution_count": null,
   "metadata": {},
   "outputs": [],
   "source": []
  }
 ],
 "metadata": {
  "kernelspec": {
   "display_name": "Python 3",
   "language": "python",
   "name": "python3"
  },
  "language_info": {
   "codemirror_mode": {
    "name": "ipython",
    "version": 3
   },
   "file_extension": ".py",
   "mimetype": "text/x-python",
   "name": "python",
   "nbconvert_exporter": "python",
   "pygments_lexer": "ipython3",
   "version": "3.8.8"
  },
  "varInspector": {
   "cols": {
    "lenName": 16,
    "lenType": 16,
    "lenVar": 40
   },
   "kernels_config": {
    "python": {
     "delete_cmd_postfix": "",
     "delete_cmd_prefix": "del ",
     "library": "var_list.py",
     "varRefreshCmd": "print(var_dic_list())"
    },
    "r": {
     "delete_cmd_postfix": ") ",
     "delete_cmd_prefix": "rm(",
     "library": "var_list.r",
     "varRefreshCmd": "cat(var_dic_list()) "
    }
   },
   "types_to_exclude": [
    "module",
    "function",
    "builtin_function_or_method",
    "instance",
    "_Feature"
   ],
   "window_display": false
  }
 },
 "nbformat": 4,
 "nbformat_minor": 2
}
